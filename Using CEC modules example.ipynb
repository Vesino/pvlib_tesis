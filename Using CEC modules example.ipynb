{
 "cells": [
  {
   "cell_type": "code",
   "execution_count": 1,
   "metadata": {},
   "outputs": [],
   "source": [
    "import os\n",
    "import pvlib\n",
    "import pandas as pd"
   ]
  },
  {
   "cell_type": "code",
   "execution_count": 2,
   "metadata": {},
   "outputs": [],
   "source": [
    "YEAR = 1990\n",
    "STARTDATE = '%d-01-01T00:00:00' % YEAR\n",
    "ENDDATE = '%d-12-31T23:59:59' % YEAR\n",
    "TIMES = pd.date_range(start=STARTDATE, end=ENDDATE, freq='H')\n",
    "INVERTERS = pvlib.pvsystem.retrieve_sam('CECInverter')\n",
    "INVERTER_10K = INVERTERS['SMA_America__SB10000TL_US__240V_']\n",
    "CECMODS = pvlib.pvsystem.retrieve_sam('CECMod')\n",
    "CECMOD_POLY = CECMODS['Canadian_Solar_Inc__CS6X_300P']\n",
    "CECMOD_MONO = CECMODS['Canadian_Solar_Inc__CS6X_300M']\n",
    "LATITUDE, LONGITUDE = 40.5137, -108.5449\n",
    "NREL_API_KEY = os.getenv('NREL_API_KEY', 'DEMO_KEY')\n",
    "EMAIL = os.getenv('EMAIL', 'bwana.marko@yahoo.com')"
   ]
  },
  {
   "cell_type": "code",
   "execution_count": 3,
   "metadata": {},
   "outputs": [],
   "source": [
    "header, data = pvlib.iotools.get_psm3(LATITUDE, LONGITUDE, NREL_API_KEY, EMAIL)"
   ]
  },
  {
   "cell_type": "code",
   "execution_count": 8,
   "metadata": {},
   "outputs": [
    {
     "data": {
      "text/plain": [
       "{'Source': 'NSRDB',\n",
       " 'Location ID': '155474',\n",
       " 'City': '-',\n",
       " 'State': '-',\n",
       " 'Country': '-',\n",
       " 'Latitude': 40.53,\n",
       " 'Longitude': -108.54,\n",
       " 'Time Zone': -7,\n",
       " 'Elevation': 2133,\n",
       " 'Local Time Zone': -7,\n",
       " 'Dew Point Units': 'c',\n",
       " 'DHI Units': 'w/m2',\n",
       " 'DNI Units': 'w/m2',\n",
       " 'GHI Units': 'w/m2',\n",
       " 'Temperature Units': 'c',\n",
       " 'Pressure Units': 'mbar',\n",
       " 'Wind Direction Units': 'Degrees',\n",
       " 'Wind Speed': 'm/s',\n",
       " 'Surface Albedo Units': 'N/A',\n",
       " 'Version': '3.1.1'}"
      ]
     },
     "execution_count": 8,
     "metadata": {},
     "output_type": "execute_result"
    }
   ],
   "source": [
    "header"
   ]
  },
  {
   "cell_type": "code",
   "execution_count": 6,
   "metadata": {},
   "outputs": [
    {
     "data": {
      "text/html": [
       "<div>\n",
       "<style scoped>\n",
       "    .dataframe tbody tr th:only-of-type {\n",
       "        vertical-align: middle;\n",
       "    }\n",
       "\n",
       "    .dataframe tbody tr th {\n",
       "        vertical-align: top;\n",
       "    }\n",
       "\n",
       "    .dataframe thead th {\n",
       "        text-align: right;\n",
       "    }\n",
       "</style>\n",
       "<table border=\"1\" class=\"dataframe\">\n",
       "  <thead>\n",
       "    <tr style=\"text-align: right;\">\n",
       "      <th></th>\n",
       "      <th>Year</th>\n",
       "      <th>Month</th>\n",
       "      <th>Day</th>\n",
       "      <th>Hour</th>\n",
       "      <th>Minute</th>\n",
       "      <th>Temperature</th>\n",
       "      <th>Dew Point</th>\n",
       "      <th>DHI</th>\n",
       "      <th>DNI</th>\n",
       "      <th>GHI</th>\n",
       "      <th>Surface Albedo</th>\n",
       "      <th>Pressure</th>\n",
       "      <th>Wind Direction</th>\n",
       "      <th>Wind Speed</th>\n",
       "    </tr>\n",
       "  </thead>\n",
       "  <tbody>\n",
       "    <tr>\n",
       "      <th>2011-01-01 00:30:00-07:00</th>\n",
       "      <td>2011</td>\n",
       "      <td>1</td>\n",
       "      <td>1</td>\n",
       "      <td>0</td>\n",
       "      <td>30</td>\n",
       "      <td>-23.0</td>\n",
       "      <td>-25.0</td>\n",
       "      <td>0.0</td>\n",
       "      <td>0.0</td>\n",
       "      <td>0.0</td>\n",
       "      <td>0.87</td>\n",
       "      <td>780.0</td>\n",
       "      <td>252.0</td>\n",
       "      <td>1.4</td>\n",
       "    </tr>\n",
       "    <tr>\n",
       "      <th>2011-01-01 01:30:00-07:00</th>\n",
       "      <td>2011</td>\n",
       "      <td>1</td>\n",
       "      <td>1</td>\n",
       "      <td>1</td>\n",
       "      <td>30</td>\n",
       "      <td>-23.0</td>\n",
       "      <td>-25.0</td>\n",
       "      <td>0.0</td>\n",
       "      <td>0.0</td>\n",
       "      <td>0.0</td>\n",
       "      <td>0.87</td>\n",
       "      <td>780.0</td>\n",
       "      <td>255.0</td>\n",
       "      <td>1.4</td>\n",
       "    </tr>\n",
       "    <tr>\n",
       "      <th>2011-01-01 02:30:00-07:00</th>\n",
       "      <td>2011</td>\n",
       "      <td>1</td>\n",
       "      <td>1</td>\n",
       "      <td>2</td>\n",
       "      <td>30</td>\n",
       "      <td>-23.0</td>\n",
       "      <td>-26.0</td>\n",
       "      <td>0.0</td>\n",
       "      <td>0.0</td>\n",
       "      <td>0.0</td>\n",
       "      <td>0.87</td>\n",
       "      <td>780.0</td>\n",
       "      <td>254.0</td>\n",
       "      <td>1.3</td>\n",
       "    </tr>\n",
       "    <tr>\n",
       "      <th>2011-01-01 03:30:00-07:00</th>\n",
       "      <td>2011</td>\n",
       "      <td>1</td>\n",
       "      <td>1</td>\n",
       "      <td>3</td>\n",
       "      <td>30</td>\n",
       "      <td>-23.0</td>\n",
       "      <td>-26.0</td>\n",
       "      <td>0.0</td>\n",
       "      <td>0.0</td>\n",
       "      <td>0.0</td>\n",
       "      <td>0.87</td>\n",
       "      <td>780.0</td>\n",
       "      <td>251.0</td>\n",
       "      <td>1.3</td>\n",
       "    </tr>\n",
       "    <tr>\n",
       "      <th>2011-01-01 04:30:00-07:00</th>\n",
       "      <td>2011</td>\n",
       "      <td>1</td>\n",
       "      <td>1</td>\n",
       "      <td>4</td>\n",
       "      <td>30</td>\n",
       "      <td>-23.0</td>\n",
       "      <td>-26.0</td>\n",
       "      <td>0.0</td>\n",
       "      <td>0.0</td>\n",
       "      <td>0.0</td>\n",
       "      <td>0.87</td>\n",
       "      <td>780.0</td>\n",
       "      <td>249.0</td>\n",
       "      <td>1.2</td>\n",
       "    </tr>\n",
       "    <tr>\n",
       "      <th>...</th>\n",
       "      <td>...</td>\n",
       "      <td>...</td>\n",
       "      <td>...</td>\n",
       "      <td>...</td>\n",
       "      <td>...</td>\n",
       "      <td>...</td>\n",
       "      <td>...</td>\n",
       "      <td>...</td>\n",
       "      <td>...</td>\n",
       "      <td>...</td>\n",
       "      <td>...</td>\n",
       "      <td>...</td>\n",
       "      <td>...</td>\n",
       "      <td>...</td>\n",
       "    </tr>\n",
       "    <tr>\n",
       "      <th>2005-12-31 19:30:00-07:00</th>\n",
       "      <td>2005</td>\n",
       "      <td>12</td>\n",
       "      <td>31</td>\n",
       "      <td>19</td>\n",
       "      <td>30</td>\n",
       "      <td>-19.0</td>\n",
       "      <td>-23.0</td>\n",
       "      <td>0.0</td>\n",
       "      <td>0.0</td>\n",
       "      <td>0.0</td>\n",
       "      <td>0.87</td>\n",
       "      <td>780.0</td>\n",
       "      <td>197.0</td>\n",
       "      <td>0.9</td>\n",
       "    </tr>\n",
       "    <tr>\n",
       "      <th>2005-12-31 20:30:00-07:00</th>\n",
       "      <td>2005</td>\n",
       "      <td>12</td>\n",
       "      <td>31</td>\n",
       "      <td>20</td>\n",
       "      <td>30</td>\n",
       "      <td>-20.0</td>\n",
       "      <td>-24.0</td>\n",
       "      <td>0.0</td>\n",
       "      <td>0.0</td>\n",
       "      <td>0.0</td>\n",
       "      <td>0.87</td>\n",
       "      <td>780.0</td>\n",
       "      <td>227.0</td>\n",
       "      <td>1.2</td>\n",
       "    </tr>\n",
       "    <tr>\n",
       "      <th>2005-12-31 21:30:00-07:00</th>\n",
       "      <td>2005</td>\n",
       "      <td>12</td>\n",
       "      <td>31</td>\n",
       "      <td>21</td>\n",
       "      <td>30</td>\n",
       "      <td>-21.0</td>\n",
       "      <td>-25.0</td>\n",
       "      <td>0.0</td>\n",
       "      <td>0.0</td>\n",
       "      <td>0.0</td>\n",
       "      <td>0.87</td>\n",
       "      <td>780.0</td>\n",
       "      <td>232.0</td>\n",
       "      <td>1.3</td>\n",
       "    </tr>\n",
       "    <tr>\n",
       "      <th>2005-12-31 22:30:00-07:00</th>\n",
       "      <td>2005</td>\n",
       "      <td>12</td>\n",
       "      <td>31</td>\n",
       "      <td>22</td>\n",
       "      <td>30</td>\n",
       "      <td>-22.0</td>\n",
       "      <td>-25.0</td>\n",
       "      <td>0.0</td>\n",
       "      <td>0.0</td>\n",
       "      <td>0.0</td>\n",
       "      <td>0.87</td>\n",
       "      <td>780.0</td>\n",
       "      <td>236.0</td>\n",
       "      <td>1.4</td>\n",
       "    </tr>\n",
       "    <tr>\n",
       "      <th>2005-12-31 23:30:00-07:00</th>\n",
       "      <td>2005</td>\n",
       "      <td>12</td>\n",
       "      <td>31</td>\n",
       "      <td>23</td>\n",
       "      <td>30</td>\n",
       "      <td>-22.0</td>\n",
       "      <td>-25.0</td>\n",
       "      <td>0.0</td>\n",
       "      <td>0.0</td>\n",
       "      <td>0.0</td>\n",
       "      <td>0.87</td>\n",
       "      <td>780.0</td>\n",
       "      <td>244.0</td>\n",
       "      <td>1.4</td>\n",
       "    </tr>\n",
       "  </tbody>\n",
       "</table>\n",
       "<p>8760 rows × 14 columns</p>\n",
       "</div>"
      ],
      "text/plain": [
       "                           Year  Month  Day  Hour  Minute  Temperature  \\\n",
       "2011-01-01 00:30:00-07:00  2011      1    1     0      30        -23.0   \n",
       "2011-01-01 01:30:00-07:00  2011      1    1     1      30        -23.0   \n",
       "2011-01-01 02:30:00-07:00  2011      1    1     2      30        -23.0   \n",
       "2011-01-01 03:30:00-07:00  2011      1    1     3      30        -23.0   \n",
       "2011-01-01 04:30:00-07:00  2011      1    1     4      30        -23.0   \n",
       "...                         ...    ...  ...   ...     ...          ...   \n",
       "2005-12-31 19:30:00-07:00  2005     12   31    19      30        -19.0   \n",
       "2005-12-31 20:30:00-07:00  2005     12   31    20      30        -20.0   \n",
       "2005-12-31 21:30:00-07:00  2005     12   31    21      30        -21.0   \n",
       "2005-12-31 22:30:00-07:00  2005     12   31    22      30        -22.0   \n",
       "2005-12-31 23:30:00-07:00  2005     12   31    23      30        -22.0   \n",
       "\n",
       "                           Dew Point  DHI  DNI  GHI  Surface Albedo  Pressure  \\\n",
       "2011-01-01 00:30:00-07:00      -25.0  0.0  0.0  0.0            0.87     780.0   \n",
       "2011-01-01 01:30:00-07:00      -25.0  0.0  0.0  0.0            0.87     780.0   \n",
       "2011-01-01 02:30:00-07:00      -26.0  0.0  0.0  0.0            0.87     780.0   \n",
       "2011-01-01 03:30:00-07:00      -26.0  0.0  0.0  0.0            0.87     780.0   \n",
       "2011-01-01 04:30:00-07:00      -26.0  0.0  0.0  0.0            0.87     780.0   \n",
       "...                              ...  ...  ...  ...             ...       ...   \n",
       "2005-12-31 19:30:00-07:00      -23.0  0.0  0.0  0.0            0.87     780.0   \n",
       "2005-12-31 20:30:00-07:00      -24.0  0.0  0.0  0.0            0.87     780.0   \n",
       "2005-12-31 21:30:00-07:00      -25.0  0.0  0.0  0.0            0.87     780.0   \n",
       "2005-12-31 22:30:00-07:00      -25.0  0.0  0.0  0.0            0.87     780.0   \n",
       "2005-12-31 23:30:00-07:00      -25.0  0.0  0.0  0.0            0.87     780.0   \n",
       "\n",
       "                           Wind Direction  Wind Speed  \n",
       "2011-01-01 00:30:00-07:00           252.0         1.4  \n",
       "2011-01-01 01:30:00-07:00           255.0         1.4  \n",
       "2011-01-01 02:30:00-07:00           254.0         1.3  \n",
       "2011-01-01 03:30:00-07:00           251.0         1.3  \n",
       "2011-01-01 04:30:00-07:00           249.0         1.2  \n",
       "...                                   ...         ...  \n",
       "2005-12-31 19:30:00-07:00           197.0         0.9  \n",
       "2005-12-31 20:30:00-07:00           227.0         1.2  \n",
       "2005-12-31 21:30:00-07:00           232.0         1.3  \n",
       "2005-12-31 22:30:00-07:00           236.0         1.4  \n",
       "2005-12-31 23:30:00-07:00           244.0         1.4  \n",
       "\n",
       "[8760 rows x 14 columns]"
      ]
     },
     "execution_count": 6,
     "metadata": {},
     "output_type": "execute_result"
    }
   ],
   "source": [
    "data"
   ]
  },
  {
   "cell_type": "code",
   "execution_count": 11,
   "metadata": {},
   "outputs": [],
   "source": [
    "# get solar position\n",
    "data.index = TIMES\n",
    "sp = pvlib.solarposition.get_solarposition(\n",
    "        TIMES, LATITUDE, LONGITUDE)"
   ]
  },
  {
   "cell_type": "code",
   "execution_count": 12,
   "metadata": {},
   "outputs": [],
   "source": [
    "solar_zenith = sp.apparent_zenith.values\n",
    "solar_azimuth = sp.azimuth.values"
   ]
  },
  {
   "cell_type": "code",
   "execution_count": 13,
   "metadata": {},
   "outputs": [],
   "source": [
    "dni = data.DNI.values\n",
    "ghi = data.GHI.values\n",
    "dhi = data.DHI.values"
   ]
  },
  {
   "cell_type": "code",
   "execution_count": 14,
   "metadata": {},
   "outputs": [],
   "source": [
    "surface_albedo = data['Surface Albedo'].values\n",
    "temp_air = data.Temperature.values\n",
    "dni_extra = pvlib.irradiance.get_extra_radiation(TIMES).values"
   ]
  },
  {
   "cell_type": "code",
   "execution_count": 15,
   "metadata": {},
   "outputs": [
    {
     "data": {
      "text/plain": [
       "array([-23., -23., -23., ..., -21., -22., -22.])"
      ]
     },
     "execution_count": 15,
     "metadata": {},
     "output_type": "execute_result"
    }
   ],
   "source": [
    "temp_air"
   ]
  },
  {
   "cell_type": "code",
   "execution_count": 16,
   "metadata": {},
   "outputs": [],
   "source": [
    "tracker = pvlib.tracking.singleaxis(solar_zenith, solar_azimuth)"
   ]
  },
  {
   "cell_type": "code",
   "execution_count": 17,
   "metadata": {},
   "outputs": [],
   "source": [
    "surface_tilt = tracker['surface_tilt']"
   ]
  },
  {
   "cell_type": "code",
   "execution_count": 18,
   "metadata": {},
   "outputs": [],
   "source": [
    "surface_azimuth = tracker['surface_azimuth']"
   ]
  },
  {
   "cell_type": "code",
   "execution_count": 19,
   "metadata": {},
   "outputs": [],
   "source": [
    "poa_sky_diffuse = pvlib.irradiance.get_sky_diffuse(\n",
    "        surface_tilt, surface_azimuth, solar_zenith, solar_azimuth,\n",
    "        dni, ghi, dhi, dni_extra=dni_extra, model='haydavies')"
   ]
  },
  {
   "cell_type": "code",
   "execution_count": 20,
   "metadata": {},
   "outputs": [],
   "source": [
    "aoi = tracker['aoi']"
   ]
  },
  {
   "cell_type": "code",
   "execution_count": 21,
   "metadata": {},
   "outputs": [],
   "source": [
    "poa_ground_diffuse = pvlib.irradiance.get_ground_diffuse(\n",
    "        surface_tilt, ghi, albedo=surface_albedo)"
   ]
  },
  {
   "cell_type": "code",
   "execution_count": 22,
   "metadata": {},
   "outputs": [],
   "source": [
    "poa = pvlib.irradiance.poa_components(\n",
    "        aoi, dni, poa_sky_diffuse, poa_ground_diffuse)"
   ]
  },
  {
   "cell_type": "code",
   "execution_count": 23,
   "metadata": {},
   "outputs": [],
   "source": [
    "poa_direct = poa['poa_direct']"
   ]
  },
  {
   "cell_type": "code",
   "execution_count": 24,
   "metadata": {},
   "outputs": [],
   "source": [
    "poa_diffuse = poa['poa_diffuse']"
   ]
  },
  {
   "cell_type": "code",
   "execution_count": 25,
   "metadata": {},
   "outputs": [],
   "source": [
    "poa_global = poa['poa_global']"
   ]
  },
  {
   "cell_type": "code",
   "execution_count": 26,
   "metadata": {},
   "outputs": [],
   "source": [
    "iam = pvlib.iam.ashrae(aoi)"
   ]
  },
  {
   "cell_type": "code",
   "execution_count": 27,
   "metadata": {},
   "outputs": [],
   "source": [
    "effective_irradiance = poa_direct*iam + poa_diffuse"
   ]
  },
  {
   "cell_type": "code",
   "execution_count": 28,
   "metadata": {},
   "outputs": [],
   "source": [
    "temp_cell = pvlib.temperature.pvsyst_cell(poa_global, temp_air)"
   ]
  },
  {
   "cell_type": "code",
   "execution_count": 29,
   "metadata": {},
   "outputs": [],
   "source": [
    "# this is the magic\n",
    "cecparams = pvlib.pvsystem.calcparams_cec(\n",
    "        effective_irradiance, temp_cell,\n",
    "        CECMOD_MONO.alpha_sc, CECMOD_MONO.a_ref,\n",
    "        CECMOD_MONO.I_L_ref, CECMOD_MONO.I_o_ref,\n",
    "        CECMOD_MONO.R_sh_ref, CECMOD_MONO.R_s, CECMOD_MONO.Adjust)\n",
    "mpp = pvlib.pvsystem.max_power_point(*cecparams, method='newton')\n",
    "mpp = pd.DataFrame(mpp, index=TIMES)\n",
    "Edaily = mpp.p_mp.resample('D').sum()"
   ]
  }
 ],
 "metadata": {
  "kernelspec": {
   "display_name": "Python 3",
   "language": "python",
   "name": "python3"
  },
  "language_info": {
   "codemirror_mode": {
    "name": "ipython",
    "version": 3
   },
   "file_extension": ".py",
   "mimetype": "text/x-python",
   "name": "python",
   "nbconvert_exporter": "python",
   "pygments_lexer": "ipython3",
   "version": "3.8.3"
  }
 },
 "nbformat": 4,
 "nbformat_minor": 4
}
