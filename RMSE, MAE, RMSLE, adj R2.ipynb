{
 "cells": [
  {
   "cell_type": "code",
   "execution_count": 18,
   "metadata": {},
   "outputs": [],
   "source": [
    "from pandas import DataFrame\n",
    "import statsmodels.api as sm\n",
    "import numpy as np"
   ]
  },
  {
   "cell_type": "code",
   "execution_count": 19,
   "metadata": {},
   "outputs": [],
   "source": [
    "data = {\n",
    "        'month': [12,11,10,9,8,7,6,5,4],\n",
    "        'free_time': [120,110,100,90,80,85,60,50,40],\n",
    "        'num_videos': [8,8,7,6,6,7,6,4,5]\n",
    "        }\n",
    "\n",
    "df = DataFrame(data, columns=['month','free_time', 'num_videos']) "
   ]
  },
  {
   "cell_type": "code",
   "execution_count": 20,
   "metadata": {
    "scrolled": true
   },
   "outputs": [
    {
     "data": {
      "text/plain": [
       "0    120\n",
       "1    110\n",
       "2    100\n",
       "3     90\n",
       "4     80\n",
       "5     85\n",
       "6     60\n",
       "7     50\n",
       "8     40\n",
       "Name: free_time, dtype: int64"
      ]
     },
     "execution_count": 20,
     "metadata": {},
     "output_type": "execute_result"
    }
   ],
   "source": [
    "df['free_time'] "
   ]
  },
  {
   "cell_type": "code",
   "execution_count": 27,
   "metadata": {},
   "outputs": [],
   "source": [
    "real = df['num_videos']"
   ]
  },
  {
   "cell_type": "code",
   "execution_count": 22,
   "metadata": {},
   "outputs": [],
   "source": [
    "X = df['free_time'] \n",
    "Y = df['num_videos']\n",
    "X = sm.add_constant(X)"
   ]
  },
  {
   "cell_type": "code",
   "execution_count": 23,
   "metadata": {},
   "outputs": [],
   "source": [
    "model = sm.OLS(Y, X).fit()\n",
    "predictions = model.predict(X) "
   ]
  },
  {
   "cell_type": "code",
   "execution_count": 24,
   "metadata": {},
   "outputs": [
    {
     "data": {
      "text/plain": [
       "pandas.core.series.Series"
      ]
     },
     "execution_count": 24,
     "metadata": {},
     "output_type": "execute_result"
    }
   ],
   "source": [
    "type(predictions)"
   ]
  },
  {
   "cell_type": "code",
   "execution_count": 25,
   "metadata": {
    "scrolled": true
   },
   "outputs": [
    {
     "name": "stdout",
     "output_type": "stream",
     "text": [
      "                            OLS Regression Results                            \n",
      "==============================================================================\n",
      "Dep. Variable:             num_videos   R-squared:                       0.818\n",
      "Model:                            OLS   Adj. R-squared:                  0.792\n",
      "Method:                 Least Squares   F-statistic:                     31.55\n",
      "Date:                Wed, 16 Dec 2020   Prob (F-statistic):           0.000802\n",
      "Time:                        17:02:30   Log-Likelihood:                -7.0819\n",
      "No. Observations:                   9   AIC:                             18.16\n",
      "Df Residuals:                       7   BIC:                             18.56\n",
      "Df Model:                           1                                         \n",
      "Covariance Type:            nonrobust                                         \n",
      "==============================================================================\n",
      "                 coef    std err          t      P>|t|      [0.025      0.975]\n",
      "------------------------------------------------------------------------------\n",
      "const          2.7345      0.672      4.072      0.005       1.147       4.322\n",
      "free_time      0.0441      0.008      5.617      0.001       0.026       0.063\n",
      "==============================================================================\n",
      "Omnibus:                        1.127   Durbin-Watson:                   2.415\n",
      "Prob(Omnibus):                  0.569   Jarque-Bera (JB):                0.791\n",
      "Skew:                          -0.450   Prob(JB):                        0.673\n",
      "Kurtosis:                       1.860   Cond. No.                         286.\n",
      "==============================================================================\n",
      "\n",
      "Notes:\n",
      "[1] Standard Errors assume that the covariance matrix of the errors is correctly specified.\n"
     ]
    },
    {
     "name": "stderr",
     "output_type": "stream",
     "text": [
      "/Users/luisvargas/Desktop/Tesis Pvlib/env_pvlib_tesis/lib/python3.8/site-packages/scipy/stats/stats.py:1603: UserWarning: kurtosistest only valid for n>=20 ... continuing anyway, n=9\n",
      "  warnings.warn(\"kurtosistest only valid for n>=20 ... continuing \"\n"
     ]
    },
    {
     "data": {
      "text/plain": [
       "0    8.022599\n",
       "1    7.581921\n",
       "2    7.141243\n",
       "3    6.700565\n",
       "4    6.259887\n",
       "5    6.480226\n",
       "6    5.378531\n",
       "7    4.937853\n",
       "8    4.497175\n",
       "dtype: float64"
      ]
     },
     "execution_count": 25,
     "metadata": {},
     "output_type": "execute_result"
    }
   ],
   "source": [
    "print_model = model.summary()\n",
    "print(print_model)\n",
    "predictions"
   ]
  },
  {
   "cell_type": "code",
   "execution_count": 28,
   "metadata": {},
   "outputs": [
    {
     "name": "stdout",
     "output_type": "stream",
     "text": [
      "0    8\n",
      "1    8\n",
      "2    7\n",
      "3    6\n",
      "4    6\n",
      "5    7\n",
      "6    6\n",
      "7    4\n",
      "8    5\n",
      "Name: num_videos, dtype: int64\n",
      "0    8.022599\n",
      "1    7.581921\n",
      "2    7.141243\n",
      "3    6.700565\n",
      "4    6.259887\n",
      "5    6.480226\n",
      "6    5.378531\n",
      "7    4.937853\n",
      "8    4.497175\n",
      "dtype: float64\n"
     ]
    }
   ],
   "source": [
    "print(real)\n",
    "print(predictions)"
   ]
  },
  {
   "cell_type": "code",
   "execution_count": 26,
   "metadata": {},
   "outputs": [
    {
     "name": "stdout",
     "output_type": "stream",
     "text": [
      "MSE:0.28248587570621464\n",
      "RMSE:0.5314940034527338\n",
      "MSLE:0.007041391001511214\n",
      "RMSLE:0.08391299661858831\n",
      "MAE:0.45825486503452645\n"
     ]
    }
   ],
   "source": [
    "from sklearn.metrics import mean_squared_error, mean_squared_log_error, mean_absolute_error\n",
    "print(\"MSE:\"+str(mean_squared_error(predictions, Y)))\n",
    "print(\"RMSE:\"+str(np.sqrt(mean_squared_error(predictions, Y))))\n",
    "print(\"MSLE:\"+str(mean_squared_log_error(predictions, Y)))\n",
    "print(\"RMSLE:\"+str(np.sqrt(mean_squared_log_error(predictions, Y))))\n",
    "print(\"MAE:\"+str(mean_absolute_error(predictions, Y)))"
   ]
  },
  {
   "cell_type": "code",
   "execution_count": null,
   "metadata": {},
   "outputs": [],
   "source": []
  },
  {
   "cell_type": "code",
   "execution_count": null,
   "metadata": {},
   "outputs": [],
   "source": []
  }
 ],
 "metadata": {
  "kernelspec": {
   "display_name": "Python 3",
   "language": "python",
   "name": "python3"
  },
  "language_info": {
   "codemirror_mode": {
    "name": "ipython",
    "version": 3
   },
   "file_extension": ".py",
   "mimetype": "text/x-python",
   "name": "python",
   "nbconvert_exporter": "python",
   "pygments_lexer": "ipython3",
   "version": "3.8.3"
  }
 },
 "nbformat": 4,
 "nbformat_minor": 4
}
