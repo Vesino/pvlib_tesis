{
 "cells": [
  {
   "cell_type": "markdown",
   "id": "9b2459bc",
   "metadata": {},
   "source": [
    "### Clean data for NAM y RAP model for the first days"
   ]
  },
  {
   "cell_type": "code",
   "execution_count": 12,
   "id": "57f0b899",
   "metadata": {},
   "outputs": [],
   "source": [
    "import pandas as pd\n",
    "import matplotlib.pyplot as plt\n",
    "from sklearn.metrics import mean_squared_error, mean_squared_log_error, mean_absolute_error\n",
    "import numpy as np"
   ]
  },
  {
   "cell_type": "code",
   "execution_count": 10,
   "id": "3dca87e5",
   "metadata": {},
   "outputs": [],
   "source": [
    "index_to_drop = [0,2,3,5,6,8,9]"
   ]
  },
  {
   "cell_type": "code",
   "execution_count": 2,
   "id": "b6516787",
   "metadata": {},
   "outputs": [],
   "source": [
    "jan_04_NAM_file = 'comparision data/Comparación Enero/04-Enero-2021-NAM'"
   ]
  },
  {
   "cell_type": "code",
   "execution_count": 3,
   "id": "d1a1709a",
   "metadata": {
    "scrolled": true
   },
   "outputs": [
    {
     "data": {
      "text/html": [
       "<div>\n",
       "<style scoped>\n",
       "    .dataframe tbody tr th:only-of-type {\n",
       "        vertical-align: middle;\n",
       "    }\n",
       "\n",
       "    .dataframe tbody tr th {\n",
       "        vertical-align: top;\n",
       "    }\n",
       "\n",
       "    .dataframe thead th {\n",
       "        text-align: right;\n",
       "    }\n",
       "</style>\n",
       "<table border=\"1\" class=\"dataframe\">\n",
       "  <thead>\n",
       "    <tr style=\"text-align: right;\">\n",
       "      <th></th>\n",
       "      <th>real_data</th>\n",
       "      <th>forecasted_data</th>\n",
       "    </tr>\n",
       "  </thead>\n",
       "  <tbody>\n",
       "    <tr>\n",
       "      <th>0</th>\n",
       "      <td>1862.33</td>\n",
       "      <td>2209.472598</td>\n",
       "    </tr>\n",
       "    <tr>\n",
       "      <th>1</th>\n",
       "      <td>15694.55</td>\n",
       "      <td>19482.849001</td>\n",
       "    </tr>\n",
       "    <tr>\n",
       "      <th>2</th>\n",
       "      <td>25180.89</td>\n",
       "      <td>31966.394019</td>\n",
       "    </tr>\n",
       "    <tr>\n",
       "      <th>3</th>\n",
       "      <td>31500.77</td>\n",
       "      <td>40289.373045</td>\n",
       "    </tr>\n",
       "    <tr>\n",
       "      <th>4</th>\n",
       "      <td>34858.23</td>\n",
       "      <td>45301.797581</td>\n",
       "    </tr>\n",
       "    <tr>\n",
       "      <th>5</th>\n",
       "      <td>34439.78</td>\n",
       "      <td>46901.165142</td>\n",
       "    </tr>\n",
       "    <tr>\n",
       "      <th>6</th>\n",
       "      <td>31555.45</td>\n",
       "      <td>44779.017095</td>\n",
       "    </tr>\n",
       "    <tr>\n",
       "      <th>7</th>\n",
       "      <td>27938.45</td>\n",
       "      <td>38468.596208</td>\n",
       "    </tr>\n",
       "    <tr>\n",
       "      <th>8</th>\n",
       "      <td>21174.89</td>\n",
       "      <td>29288.921374</td>\n",
       "    </tr>\n",
       "    <tr>\n",
       "      <th>9</th>\n",
       "      <td>6826.89</td>\n",
       "      <td>16902.794493</td>\n",
       "    </tr>\n",
       "    <tr>\n",
       "      <th>10</th>\n",
       "      <td>733.11</td>\n",
       "      <td>1146.196858</td>\n",
       "    </tr>\n",
       "  </tbody>\n",
       "</table>\n",
       "</div>"
      ],
      "text/plain": [
       "    real_data  forecasted_data\n",
       "0     1862.33      2209.472598\n",
       "1    15694.55     19482.849001\n",
       "2    25180.89     31966.394019\n",
       "3    31500.77     40289.373045\n",
       "4    34858.23     45301.797581\n",
       "5    34439.78     46901.165142\n",
       "6    31555.45     44779.017095\n",
       "7    27938.45     38468.596208\n",
       "8    21174.89     29288.921374\n",
       "9     6826.89     16902.794493\n",
       "10     733.11      1146.196858"
      ]
     },
     "execution_count": 3,
     "metadata": {},
     "output_type": "execute_result"
    }
   ],
   "source": [
    "# NAM model only retreives 10 records per day from 8:00 AM to 18:00 PM so, \n",
    "# we clean the data to be consistent with GFS model\n",
    "\n",
    "df = pd.read_csv(jan_04_NAM_file)\n",
    "df\n"
   ]
  },
  {
   "cell_type": "code",
   "execution_count": 5,
   "id": "7a857320",
   "metadata": {},
   "outputs": [
    {
     "data": {
      "text/html": [
       "<div>\n",
       "<style scoped>\n",
       "    .dataframe tbody tr th:only-of-type {\n",
       "        vertical-align: middle;\n",
       "    }\n",
       "\n",
       "    .dataframe tbody tr th {\n",
       "        vertical-align: top;\n",
       "    }\n",
       "\n",
       "    .dataframe thead th {\n",
       "        text-align: right;\n",
       "    }\n",
       "</style>\n",
       "<table border=\"1\" class=\"dataframe\">\n",
       "  <thead>\n",
       "    <tr style=\"text-align: right;\">\n",
       "      <th></th>\n",
       "      <th>real_data</th>\n",
       "      <th>forecasted_data</th>\n",
       "    </tr>\n",
       "  </thead>\n",
       "  <tbody>\n",
       "    <tr>\n",
       "      <th>1</th>\n",
       "      <td>15694.55</td>\n",
       "      <td>19482.849001</td>\n",
       "    </tr>\n",
       "    <tr>\n",
       "      <th>4</th>\n",
       "      <td>34858.23</td>\n",
       "      <td>45301.797581</td>\n",
       "    </tr>\n",
       "    <tr>\n",
       "      <th>7</th>\n",
       "      <td>27938.45</td>\n",
       "      <td>38468.596208</td>\n",
       "    </tr>\n",
       "    <tr>\n",
       "      <th>10</th>\n",
       "      <td>733.11</td>\n",
       "      <td>1146.196858</td>\n",
       "    </tr>\n",
       "  </tbody>\n",
       "</table>\n",
       "</div>"
      ],
      "text/plain": [
       "    real_data  forecasted_data\n",
       "1    15694.55     19482.849001\n",
       "4    34858.23     45301.797581\n",
       "7    27938.45     38468.596208\n",
       "10     733.11      1146.196858"
      ]
     },
     "execution_count": 5,
     "metadata": {},
     "output_type": "execute_result"
    }
   ],
   "source": [
    "consistent_data = df.drop(index_to_drop)\n",
    "consistent_data"
   ]
  },
  {
   "cell_type": "code",
   "execution_count": 7,
   "id": "afd0e79c",
   "metadata": {},
   "outputs": [],
   "source": [
    "comparision = consistent_data.to_csv('comparision data/Comparación Enero/04-Enero-2021-NAM.csv', index=False)"
   ]
  },
  {
   "cell_type": "code",
   "execution_count": null,
   "id": "e5af1bee",
   "metadata": {},
   "outputs": [],
   "source": [
    "real = comparision['real_data']\n",
    "real"
   ]
  },
  {
   "cell_type": "code",
   "execution_count": null,
   "id": "9ae43291",
   "metadata": {},
   "outputs": [],
   "source": [
    "forecasted = comparision['forecasted_data']\n",
    "forecasted"
   ]
  },
  {
   "cell_type": "code",
   "execution_count": null,
   "id": "98de782b",
   "metadata": {},
   "outputs": [],
   "source": [
    "print(\"MSE:\"+str(mean_squared_error(forecasted, real)))\n",
    "print(\"RMSE:\"+str(np.sqrt(mean_squared_error(forecasted, real))))\n",
    "print(\"MSLE:\"+str(mean_squared_log_error(forecasted, real)))\n",
    "print(\"RMSLE:\"+str(np.sqrt(mean_squared_log_error(forecasted, real))))\n",
    "print(\"MAE:\"+str(mean_absolute_error(forecasted, real)))"
   ]
  },
  {
   "cell_type": "code",
   "execution_count": null,
   "id": "ea505393",
   "metadata": {},
   "outputs": [],
   "source": [
    "MSE = mean_squared_error(forecasted, real)\n",
    "RMSE = np.sqrt(mean_squared_error(forecasted, real))\n",
    "MSLE = mean_squared_log_error(forecasted, real)\n",
    "RMSLE = np.sqrt(mean_squared_log_error(forecasted, real))\n",
    "MAE = mean_absolute_error(forecasted, real)"
   ]
  },
  {
   "cell_type": "code",
   "execution_count": null,
   "id": "43dc4d51",
   "metadata": {},
   "outputs": [],
   "source": [
    "metrics_obj = {'MSE': [MSE], 'RMSE':[RMSE], 'MSLE':[MSLE], 'RMSLE':[RMSLE], 'MAE':[MAE]}\n",
    "metrics_df = pd.DataFrame(metrics_obj)\n",
    "metrics_df"
   ]
  },
  {
   "cell_type": "code",
   "execution_count": null,
   "id": "fb38ae41",
   "metadata": {},
   "outputs": [],
   "source": []
  },
  {
   "cell_type": "code",
   "execution_count": 8,
   "id": "89be0f84",
   "metadata": {},
   "outputs": [],
   "source": [
    "jan_05_NAM_file = 'comparision data/Comparación Enero/05-Enero-2021-NAM'"
   ]
  },
  {
   "cell_type": "code",
   "execution_count": 9,
   "id": "561271c4",
   "metadata": {},
   "outputs": [
    {
     "data": {
      "text/html": [
       "<div>\n",
       "<style scoped>\n",
       "    .dataframe tbody tr th:only-of-type {\n",
       "        vertical-align: middle;\n",
       "    }\n",
       "\n",
       "    .dataframe tbody tr th {\n",
       "        vertical-align: top;\n",
       "    }\n",
       "\n",
       "    .dataframe thead th {\n",
       "        text-align: right;\n",
       "    }\n",
       "</style>\n",
       "<table border=\"1\" class=\"dataframe\">\n",
       "  <thead>\n",
       "    <tr style=\"text-align: right;\">\n",
       "      <th></th>\n",
       "      <th>real_data</th>\n",
       "      <th>forecasted_data</th>\n",
       "    </tr>\n",
       "  </thead>\n",
       "  <tbody>\n",
       "    <tr>\n",
       "      <th>0</th>\n",
       "      <td>1851.77</td>\n",
       "      <td>2121.628208</td>\n",
       "    </tr>\n",
       "    <tr>\n",
       "      <th>1</th>\n",
       "      <td>14834.23</td>\n",
       "      <td>19342.845041</td>\n",
       "    </tr>\n",
       "    <tr>\n",
       "      <th>2</th>\n",
       "      <td>23633.56</td>\n",
       "      <td>31854.273902</td>\n",
       "    </tr>\n",
       "    <tr>\n",
       "      <th>3</th>\n",
       "      <td>29504.89</td>\n",
       "      <td>40244.308958</td>\n",
       "    </tr>\n",
       "    <tr>\n",
       "      <th>4</th>\n",
       "      <td>33621.44</td>\n",
       "      <td>45027.390034</td>\n",
       "    </tr>\n",
       "    <tr>\n",
       "      <th>5</th>\n",
       "      <td>34818.67</td>\n",
       "      <td>46638.762029</td>\n",
       "    </tr>\n",
       "    <tr>\n",
       "      <th>6</th>\n",
       "      <td>32420.78</td>\n",
       "      <td>44576.036156</td>\n",
       "    </tr>\n",
       "    <tr>\n",
       "      <th>7</th>\n",
       "      <td>28274.22</td>\n",
       "      <td>38344.304734</td>\n",
       "    </tr>\n",
       "    <tr>\n",
       "      <th>8</th>\n",
       "      <td>21071.66</td>\n",
       "      <td>29412.840570</td>\n",
       "    </tr>\n",
       "    <tr>\n",
       "      <th>9</th>\n",
       "      <td>6730.77</td>\n",
       "      <td>16988.309337</td>\n",
       "    </tr>\n",
       "    <tr>\n",
       "      <th>10</th>\n",
       "      <td>913.67</td>\n",
       "      <td>1209.750860</td>\n",
       "    </tr>\n",
       "  </tbody>\n",
       "</table>\n",
       "</div>"
      ],
      "text/plain": [
       "    real_data  forecasted_data\n",
       "0     1851.77      2121.628208\n",
       "1    14834.23     19342.845041\n",
       "2    23633.56     31854.273902\n",
       "3    29504.89     40244.308958\n",
       "4    33621.44     45027.390034\n",
       "5    34818.67     46638.762029\n",
       "6    32420.78     44576.036156\n",
       "7    28274.22     38344.304734\n",
       "8    21071.66     29412.840570\n",
       "9     6730.77     16988.309337\n",
       "10     913.67      1209.750860"
      ]
     },
     "execution_count": 9,
     "metadata": {},
     "output_type": "execute_result"
    }
   ],
   "source": [
    "df = pd.read_csv(jan_05_NAM_file)\n",
    "df"
   ]
  },
  {
   "cell_type": "code",
   "execution_count": null,
   "id": "d63585a0",
   "metadata": {},
   "outputs": [],
   "source": [
    "consistent_data = df.drop(index_to_drop)\n",
    "consistent_data"
   ]
  }
 ],
 "metadata": {
  "kernelspec": {
   "display_name": "Python 3 (ipykernel)",
   "language": "python",
   "name": "python3"
  },
  "language_info": {
   "codemirror_mode": {
    "name": "ipython",
    "version": 3
   },
   "file_extension": ".py",
   "mimetype": "text/x-python",
   "name": "python",
   "nbconvert_exporter": "python",
   "pygments_lexer": "ipython3",
   "version": "3.9.7"
  }
 },
 "nbformat": 4,
 "nbformat_minor": 5
}
