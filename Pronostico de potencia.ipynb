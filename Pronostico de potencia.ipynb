{
 "cells": [
  {
   "cell_type": "markdown",
   "metadata": {},
   "source": [
    "# Pronostico de potencia"
   ]
  },
  {
   "cell_type": "code",
   "execution_count": 1,
   "metadata": {},
   "outputs": [
    {
     "name": "stderr",
     "output_type": "stream",
     "text": [
      "/Users/luisvargas/Desktop/Tesis Pvlib/env_pvlib_tesis/lib/python3.8/site-packages/pvlib/forecast.py:18: UserWarning: The forecast module algorithms and features are highly experimental. The API may change, the functionality may be consolidated into an io module, or the module may be separated into its own package.\n",
      "  warnings.warn(\n"
     ]
    }
   ],
   "source": [
    "import datetime\n",
    "import inspect\n",
    "import os\n",
    "\n",
    "# scientific python add-ons\n",
    "import numpy as np\n",
    "import pandas as pd\n",
    "\n",
    "# plotting stuff\n",
    "# first line makes the plots appear in the notebook\n",
    "%matplotlib inline \n",
    "import matplotlib.pyplot as plt\n",
    "import matplotlib as mpl\n",
    "\n",
    "# finally, we import the pvlib library\n",
    "import pvlib\n",
    "from pvlib import solarposition, irradiance, atmosphere, pvsystem, inverter, temperature, iam\n",
    "from pvlib.forecast import GFS, NAM, NDFD, RAP, HRRR"
   ]
  },
  {
   "cell_type": "markdown",
   "metadata": {},
   "source": [
    "### Load Forecast data\n",
    "\n",
    "pvlib forecast module only includes several models. To see the full list of forecast models visit the Unidata website:\n",
    "\n",
    "http://www.unidata.ucar.edu/data/#tds\n"
   ]
  },
  {
   "cell_type": "code",
   "execution_count": 2,
   "metadata": {},
   "outputs": [],
   "source": [
    "# Choose a location.\n",
    "# Tucson, AZ\n",
    "latitude = 20.56\n",
    "longitude = -103.22 \n",
    "tz = 'America/Mexico_City'"
   ]
  },
  {
   "cell_type": "markdown",
   "metadata": {},
   "source": [
    "Definir algunos parametros del sistema fotovoltaico."
   ]
  },
  {
   "cell_type": "code",
   "execution_count": 3,
   "metadata": {},
   "outputs": [],
   "source": [
    "surface_tilt = 30\n",
    "surface_azimuth = 180 # pvlib uses 0=North, 90=East, 180=South, 270=West convention\n",
    "albedo = 0.2"
   ]
  },
  {
   "cell_type": "code",
   "execution_count": 4,
   "metadata": {},
   "outputs": [],
   "source": [
    "start = pd.Timestamp(datetime.date.today(), tz=tz) # today's date\n",
    "end = start + pd.Timedelta(days=7) # 7 days from today"
   ]
  },
  {
   "cell_type": "code",
   "execution_count": 5,
   "metadata": {},
   "outputs": [],
   "source": [
    "# Define forecast model\n",
    "fm = GFS()\n",
    "#fm = NAM()\n",
    "#fm = NDFD()\n",
    "#fm = RAP()\n",
    "#fm = HRRR()"
   ]
  },
  {
   "cell_type": "code",
   "execution_count": 6,
   "metadata": {},
   "outputs": [],
   "source": [
    "# Retrieve data\n",
    "forecast_data = fm.get_processed_data(latitude, longitude, start, end)"
   ]
  },
  {
   "cell_type": "code",
   "execution_count": 7,
   "metadata": {},
   "outputs": [
    {
     "data": {
      "text/html": [
       "<div>\n",
       "<style scoped>\n",
       "    .dataframe tbody tr th:only-of-type {\n",
       "        vertical-align: middle;\n",
       "    }\n",
       "\n",
       "    .dataframe tbody tr th {\n",
       "        vertical-align: top;\n",
       "    }\n",
       "\n",
       "    .dataframe thead th {\n",
       "        text-align: right;\n",
       "    }\n",
       "</style>\n",
       "<table border=\"1\" class=\"dataframe\">\n",
       "  <thead>\n",
       "    <tr style=\"text-align: right;\">\n",
       "      <th></th>\n",
       "      <th>temp_air</th>\n",
       "      <th>wind_speed</th>\n",
       "      <th>ghi</th>\n",
       "      <th>dni</th>\n",
       "      <th>dhi</th>\n",
       "      <th>total_clouds</th>\n",
       "      <th>low_clouds</th>\n",
       "      <th>mid_clouds</th>\n",
       "      <th>high_clouds</th>\n",
       "    </tr>\n",
       "  </thead>\n",
       "  <tbody>\n",
       "    <tr>\n",
       "      <th>2020-11-26 06:00:00-06:00</th>\n",
       "      <td>14.149994</td>\n",
       "      <td>1.148972</td>\n",
       "      <td>0.000000</td>\n",
       "      <td>0.000000</td>\n",
       "      <td>0.000000</td>\n",
       "      <td>0.0</td>\n",
       "      <td>0.0</td>\n",
       "      <td>0.0</td>\n",
       "      <td>0.0</td>\n",
       "    </tr>\n",
       "    <tr>\n",
       "      <th>2020-11-26 09:00:00-06:00</th>\n",
       "      <td>12.845245</td>\n",
       "      <td>0.427756</td>\n",
       "      <td>325.053195</td>\n",
       "      <td>642.323957</td>\n",
       "      <td>85.142313</td>\n",
       "      <td>0.0</td>\n",
       "      <td>0.0</td>\n",
       "      <td>0.0</td>\n",
       "      <td>0.0</td>\n",
       "    </tr>\n",
       "    <tr>\n",
       "      <th>2020-11-26 12:00:00-06:00</th>\n",
       "      <td>12.427887</td>\n",
       "      <td>1.444086</td>\n",
       "      <td>653.846474</td>\n",
       "      <td>524.910637</td>\n",
       "      <td>268.914159</td>\n",
       "      <td>20.0</td>\n",
       "      <td>0.0</td>\n",
       "      <td>0.0</td>\n",
       "      <td>20.0</td>\n",
       "    </tr>\n",
       "    <tr>\n",
       "      <th>2020-11-26 15:00:00-06:00</th>\n",
       "      <td>22.250427</td>\n",
       "      <td>0.927074</td>\n",
       "      <td>519.269418</td>\n",
       "      <td>563.361710</td>\n",
       "      <td>187.110158</td>\n",
       "      <td>16.0</td>\n",
       "      <td>0.0</td>\n",
       "      <td>0.0</td>\n",
       "      <td>16.0</td>\n",
       "    </tr>\n",
       "    <tr>\n",
       "      <th>2020-11-26 18:00:00-06:00</th>\n",
       "      <td>38.149994</td>\n",
       "      <td>0.629852</td>\n",
       "      <td>2.777806</td>\n",
       "      <td>0.000000</td>\n",
       "      <td>2.777806</td>\n",
       "      <td>8.0</td>\n",
       "      <td>0.0</td>\n",
       "      <td>0.0</td>\n",
       "      <td>8.0</td>\n",
       "    </tr>\n",
       "  </tbody>\n",
       "</table>\n",
       "</div>"
      ],
      "text/plain": [
       "                            temp_air  wind_speed         ghi         dni  \\\n",
       "2020-11-26 06:00:00-06:00  14.149994    1.148972    0.000000    0.000000   \n",
       "2020-11-26 09:00:00-06:00  12.845245    0.427756  325.053195  642.323957   \n",
       "2020-11-26 12:00:00-06:00  12.427887    1.444086  653.846474  524.910637   \n",
       "2020-11-26 15:00:00-06:00  22.250427    0.927074  519.269418  563.361710   \n",
       "2020-11-26 18:00:00-06:00  38.149994    0.629852    2.777806    0.000000   \n",
       "\n",
       "                                  dhi  total_clouds  low_clouds  mid_clouds  \\\n",
       "2020-11-26 06:00:00-06:00    0.000000           0.0         0.0         0.0   \n",
       "2020-11-26 09:00:00-06:00   85.142313           0.0         0.0         0.0   \n",
       "2020-11-26 12:00:00-06:00  268.914159          20.0         0.0         0.0   \n",
       "2020-11-26 15:00:00-06:00  187.110158          16.0         0.0         0.0   \n",
       "2020-11-26 18:00:00-06:00    2.777806           8.0         0.0         0.0   \n",
       "\n",
       "                           high_clouds  \n",
       "2020-11-26 06:00:00-06:00          0.0  \n",
       "2020-11-26 09:00:00-06:00          0.0  \n",
       "2020-11-26 12:00:00-06:00         20.0  \n",
       "2020-11-26 15:00:00-06:00         16.0  \n",
       "2020-11-26 18:00:00-06:00          8.0  "
      ]
     },
     "execution_count": 7,
     "metadata": {},
     "output_type": "execute_result"
    }
   ],
   "source": [
    "forecast_data.head()"
   ]
  },
  {
   "cell_type": "code",
   "execution_count": 8,
   "metadata": {},
   "outputs": [],
   "source": [
    "ghi = forecast_data['ghi']\n",
    "#ghi.plot()\n",
    "#plt.ylabel('Irradiance ($W/m^{-2}$)');"
   ]
  },
  {
   "cell_type": "markdown",
   "metadata": {},
   "source": [
    "\n",
    "### Calculate modeling intermediates\n",
    "\n",
    "Before we can calculate power for all the forecast times, we will need to calculate:\n",
    "\n",
    "    solar position\n",
    "    extra terrestrial radiation\n",
    "    airmass\n",
    "    angle of incidence\n",
    "    POA sky and ground diffuse radiation\n",
    "    cell and module temperatures\n",
    "\n",
    "The approach here follows that of the pvlib tmy_to_power notebook. You will find more details regarding this approach and the values being calculated in that notebook.\n",
    "Solar position\n",
    "\n",
    "Calculate the solar position for all times in the forecast data.\n",
    "\n",
    "The default solar position algorithm is based on Reda and Andreas (2004). Our implementation is pretty fast, but you can make it even faster if you install numba and use add method='nrel_numba' to the function call below.\n"
   ]
  },
  {
   "cell_type": "code",
   "execution_count": 9,
   "metadata": {},
   "outputs": [],
   "source": [
    "# retrieve time and location parameters\n",
    "time = forecast_data.index\n",
    "a_point = fm.location"
   ]
  },
  {
   "cell_type": "code",
   "execution_count": 10,
   "metadata": {
    "scrolled": false
   },
   "outputs": [],
   "source": [
    "solpos = a_point.get_solarposition(time)\n",
    "#solpos.plot()"
   ]
  },
  {
   "cell_type": "code",
   "execution_count": 11,
   "metadata": {},
   "outputs": [],
   "source": [
    "dni_extra = irradiance.get_extra_radiation(fm.time)\n",
    "#dni_extra.plot()\n",
    "#plt.ylabel('Extra terrestrial radiation ($W/m^{-2}$)')"
   ]
  },
  {
   "cell_type": "code",
   "execution_count": 12,
   "metadata": {},
   "outputs": [],
   "source": [
    "airmass = atmosphere.get_relative_airmass(solpos['apparent_zenith'])\n",
    "#airmass.plot()\n",
    "#plt.ylabel('Airmass')"
   ]
  },
  {
   "cell_type": "code",
   "execution_count": 13,
   "metadata": {},
   "outputs": [],
   "source": [
    "poa_sky_diffuse = irradiance.haydavies(surface_tilt, surface_azimuth,\n",
    "                                       forecast_data['dhi'], forecast_data['dni'], dni_extra,\n",
    "                                       solpos['apparent_zenith'], solpos['azimuth'])\n",
    "#poa_sky_diffuse.plot()\n",
    "#plt.ylabel('Irradiance ($W/m^{-2}$)')"
   ]
  },
  {
   "cell_type": "code",
   "execution_count": 14,
   "metadata": {},
   "outputs": [],
   "source": [
    "poa_ground_diffuse = irradiance.get_ground_diffuse(surface_tilt, ghi, albedo=albedo)\n",
    "#poa_ground_diffuse.plot()\n",
    "#plt.ylabel('Irradiance ($W/m^{-2}$)')"
   ]
  },
  {
   "cell_type": "code",
   "execution_count": 15,
   "metadata": {},
   "outputs": [],
   "source": [
    "aoi = irradiance.aoi(surface_tilt, surface_azimuth, solpos['apparent_zenith'], solpos['azimuth'])\n",
    "#aoi.plot()\n",
    "#plt.ylabel('Angle of incidence (deg)')"
   ]
  },
  {
   "cell_type": "code",
   "execution_count": 16,
   "metadata": {},
   "outputs": [],
   "source": [
    "poa_irrad = irradiance.poa_components(aoi, forecast_data['dni'], poa_sky_diffuse, poa_ground_diffuse)\n",
    "#poa_irrad.plot()\n",
    "#plt.ylabel('Irradiance ($W/m^{-2}$)')\n",
    "#plt.title('POA Irradiance');"
   ]
  },
  {
   "cell_type": "code",
   "execution_count": 28,
   "metadata": {},
   "outputs": [],
   "source": [
    "poa_direct = poa_irrad['poa_direct']"
   ]
  },
  {
   "cell_type": "code",
   "execution_count": 30,
   "metadata": {},
   "outputs": [],
   "source": [
    "poa_diffuse = poa_irrad['poa_diffuse']"
   ]
  },
  {
   "cell_type": "code",
   "execution_count": 33,
   "metadata": {},
   "outputs": [],
   "source": [
    "poa_global = poa_irrad['poa_global']"
   ]
  },
  {
   "cell_type": "code",
   "execution_count": 17,
   "metadata": {},
   "outputs": [],
   "source": [
    "ambient_temperature = forecast_data['temp_air']\n",
    "wnd_spd = forecast_data['wind_speed']\n",
    "thermal_params = temperature.TEMPERATURE_MODEL_PARAMETERS['sapm']['open_rack_glass_polymer']\n",
    "pvtemp = temperature.sapm_cell(poa_irrad['poa_global'], ambient_temperature, wnd_spd, **thermal_params)\n",
    "#pvtemp.plot()\n",
    "#plt.ylabel('Temperature (C)');"
   ]
  },
  {
   "cell_type": "code",
   "execution_count": 18,
   "metadata": {},
   "outputs": [],
   "source": [
    "cec_modules = pvsystem.retrieve_sam('cecmod')"
   ]
  },
  {
   "cell_type": "code",
   "execution_count": 19,
   "metadata": {
    "scrolled": false
   },
   "outputs": [],
   "source": [
    "cec_module = cec_modules.Canadian_Solar_Inc__CS6X_320P"
   ]
  },
  {
   "cell_type": "code",
   "execution_count": 20,
   "metadata": {},
   "outputs": [],
   "source": [
    "sandia_modules = pvsystem.retrieve_sam('SandiaMod')"
   ]
  },
  {
   "cell_type": "code",
   "execution_count": 21,
   "metadata": {},
   "outputs": [],
   "source": [
    "sandia_module = sandia_modules.Canadian_Solar_CS5P_220M___2009_"
   ]
  },
  {
   "cell_type": "code",
   "execution_count": 22,
   "metadata": {
    "scrolled": true
   },
   "outputs": [],
   "source": [
    "#effective_irradiance = pvsystem.sapm_effective_irradiance(poa_irrad.poa_direct, poa_irrad.poa_diffuse,airmass, aoi, cec_module)\n",
    "iam = iam.martin_ruiz(aoi)    # or choose a different IAM model from pvlib.iam"
   ]
  },
  {
   "cell_type": "code",
   "execution_count": 31,
   "metadata": {},
   "outputs": [
    {
     "data": {
      "text/plain": [
       "2020-11-26 06:00:00-06:00      0.000000\n",
       "2020-11-26 09:00:00-06:00    476.090729\n",
       "2020-11-26 12:00:00-06:00    804.487118\n",
       "2020-11-26 15:00:00-06:00    671.704074\n",
       "2020-11-26 18:00:00-06:00      2.628944\n",
       "2020-11-26 21:00:00-06:00      0.000000\n",
       "2020-11-27 00:00:00-06:00      0.000000\n",
       "2020-11-27 03:00:00-06:00      0.000000\n",
       "2020-11-27 06:00:00-06:00      0.000000\n",
       "2020-11-27 09:00:00-06:00    232.778165\n",
       "2020-11-27 12:00:00-06:00    720.713382\n",
       "2020-11-27 15:00:00-06:00    397.369338\n",
       "2020-11-27 18:00:00-06:00      2.276272\n",
       "2020-11-27 21:00:00-06:00      0.000000\n",
       "2020-11-28 00:00:00-06:00      0.000000\n",
       "2020-11-28 03:00:00-06:00      0.000000\n",
       "2020-11-28 06:00:00-06:00      0.000000\n",
       "2020-11-28 09:00:00-06:00    206.624874\n",
       "2020-11-28 12:00:00-06:00    575.359684\n",
       "2020-11-28 15:00:00-06:00    785.227884\n",
       "2020-11-28 18:00:00-06:00      2.834867\n",
       "2020-11-28 21:00:00-06:00      0.000000\n",
       "2020-11-29 00:00:00-06:00      0.000000\n",
       "2020-11-29 03:00:00-06:00      0.000000\n",
       "2020-11-29 06:00:00-06:00      0.000000\n",
       "2020-11-29 09:00:00-06:00    470.292075\n",
       "2020-11-29 12:00:00-06:00    973.257524\n",
       "2020-11-29 15:00:00-06:00    529.197200\n",
       "2020-11-29 18:00:00-06:00      2.577332\n",
       "2020-11-29 21:00:00-06:00      0.000000\n",
       "2020-11-30 00:00:00-06:00      0.000000\n",
       "2020-11-30 03:00:00-06:00      0.000000\n",
       "2020-11-30 06:00:00-06:00      0.000000\n",
       "2020-11-30 09:00:00-06:00    468.317002\n",
       "2020-11-30 12:00:00-06:00    972.802181\n",
       "2020-11-30 15:00:00-06:00    780.461519\n",
       "2020-11-30 18:00:00-06:00      2.962925\n",
       "2020-11-30 21:00:00-06:00      0.000000\n",
       "2020-12-01 00:00:00-06:00      0.000000\n",
       "2020-12-01 03:00:00-06:00      0.000000\n",
       "2020-12-01 06:00:00-06:00      0.000000\n",
       "2020-12-01 09:00:00-06:00    230.748367\n",
       "2020-12-01 12:00:00-06:00    588.542374\n",
       "2020-12-01 15:00:00-06:00    690.407542\n",
       "2020-12-01 18:00:00-06:00      2.619434\n",
       "2020-12-01 21:00:00-06:00      0.000000\n",
       "2020-12-02 00:00:00-06:00      0.000000\n",
       "2020-12-02 03:00:00-06:00      0.000000\n",
       "2020-12-02 06:00:00-06:00      0.000000\n",
       "2020-12-02 09:00:00-06:00    321.684498\n",
       "2020-12-02 12:00:00-06:00    743.429486\n",
       "2020-12-02 15:00:00-06:00    375.103062\n",
       "2020-12-02 18:00:00-06:00      2.554021\n",
       "2020-12-02 21:00:00-06:00      0.000000\n",
       "2020-12-03 00:00:00-06:00      0.000000\n",
       "2020-12-03 03:00:00-06:00           NaN\n",
       "2020-12-03 06:00:00-06:00           NaN\n",
       "dtype: float64"
      ]
     },
     "execution_count": 31,
     "metadata": {},
     "output_type": "execute_result"
    }
   ],
   "source": [
    "effective_irradiance = poa_direct * iam + poa_diffuse\n",
    "effective_irradiance"
   ]
  },
  {
   "cell_type": "code",
   "execution_count": 32,
   "metadata": {},
   "outputs": [
    {
     "ename": "KeyError",
     "evalue": "'Bvmpo'",
     "output_type": "error",
     "traceback": [
      "\u001b[0;31m---------------------------------------------------------------------------\u001b[0m",
      "\u001b[0;31mKeyError\u001b[0m                                  Traceback (most recent call last)",
      "\u001b[0;32m~/Desktop/Tesis Pvlib/env_pvlib_tesis/lib/python3.8/site-packages/pandas/core/indexes/base.py\u001b[0m in \u001b[0;36mget_loc\u001b[0;34m(self, key, method, tolerance)\u001b[0m\n\u001b[1;32m   2894\u001b[0m             \u001b[0;32mtry\u001b[0m\u001b[0;34m:\u001b[0m\u001b[0;34m\u001b[0m\u001b[0;34m\u001b[0m\u001b[0m\n\u001b[0;32m-> 2895\u001b[0;31m                 \u001b[0;32mreturn\u001b[0m \u001b[0mself\u001b[0m\u001b[0;34m.\u001b[0m\u001b[0m_engine\u001b[0m\u001b[0;34m.\u001b[0m\u001b[0mget_loc\u001b[0m\u001b[0;34m(\u001b[0m\u001b[0mcasted_key\u001b[0m\u001b[0;34m)\u001b[0m\u001b[0;34m\u001b[0m\u001b[0;34m\u001b[0m\u001b[0m\n\u001b[0m\u001b[1;32m   2896\u001b[0m             \u001b[0;32mexcept\u001b[0m \u001b[0mKeyError\u001b[0m \u001b[0;32mas\u001b[0m \u001b[0merr\u001b[0m\u001b[0;34m:\u001b[0m\u001b[0;34m\u001b[0m\u001b[0;34m\u001b[0m\u001b[0m\n",
      "\u001b[0;32mpandas/_libs/index.pyx\u001b[0m in \u001b[0;36mpandas._libs.index.IndexEngine.get_loc\u001b[0;34m()\u001b[0m\n",
      "\u001b[0;32mpandas/_libs/index.pyx\u001b[0m in \u001b[0;36mpandas._libs.index.IndexEngine.get_loc\u001b[0;34m()\u001b[0m\n",
      "\u001b[0;32mpandas/_libs/hashtable_class_helper.pxi\u001b[0m in \u001b[0;36mpandas._libs.hashtable.PyObjectHashTable.get_item\u001b[0;34m()\u001b[0m\n",
      "\u001b[0;32mpandas/_libs/hashtable_class_helper.pxi\u001b[0m in \u001b[0;36mpandas._libs.hashtable.PyObjectHashTable.get_item\u001b[0;34m()\u001b[0m\n",
      "\u001b[0;31mKeyError\u001b[0m: 'Bvmpo'",
      "\nThe above exception was the direct cause of the following exception:\n",
      "\u001b[0;31mKeyError\u001b[0m                                  Traceback (most recent call last)",
      "\u001b[0;32m<ipython-input-32-cd29f79ac8e6>\u001b[0m in \u001b[0;36m<module>\u001b[0;34m\u001b[0m\n\u001b[0;32m----> 1\u001b[0;31m \u001b[0msapm_out\u001b[0m \u001b[0;34m=\u001b[0m \u001b[0mpvsystem\u001b[0m\u001b[0;34m.\u001b[0m\u001b[0msapm\u001b[0m\u001b[0;34m(\u001b[0m\u001b[0meffective_irradiance\u001b[0m\u001b[0;34m,\u001b[0m \u001b[0mpvtemp\u001b[0m\u001b[0;34m,\u001b[0m \u001b[0mcec_module\u001b[0m\u001b[0;34m)\u001b[0m\u001b[0;34m\u001b[0m\u001b[0;34m\u001b[0m\u001b[0m\n\u001b[0m\u001b[1;32m      2\u001b[0m \u001b[0;31m#print(sapm_out.head())\u001b[0m\u001b[0;34m\u001b[0m\u001b[0;34m\u001b[0m\u001b[0;34m\u001b[0m\u001b[0m\n\u001b[1;32m      3\u001b[0m \u001b[0msapm_out\u001b[0m\u001b[0;34m[\u001b[0m\u001b[0;34m[\u001b[0m\u001b[0;34m'p_mp'\u001b[0m\u001b[0;34m]\u001b[0m\u001b[0;34m]\u001b[0m\u001b[0;34m.\u001b[0m\u001b[0mplot\u001b[0m\u001b[0;34m(\u001b[0m\u001b[0;34m)\u001b[0m\u001b[0;34m\u001b[0m\u001b[0;34m\u001b[0m\u001b[0m\n\u001b[1;32m      4\u001b[0m \u001b[0mplt\u001b[0m\u001b[0;34m.\u001b[0m\u001b[0mylabel\u001b[0m\u001b[0;34m(\u001b[0m\u001b[0;34m'DC Power (W)'\u001b[0m\u001b[0;34m)\u001b[0m\u001b[0;34m;\u001b[0m\u001b[0;34m\u001b[0m\u001b[0;34m\u001b[0m\u001b[0m\n",
      "\u001b[0;32m~/Desktop/Tesis Pvlib/env_pvlib_tesis/lib/python3.8/site-packages/pvlib/pvsystem.py\u001b[0m in \u001b[0;36msapm\u001b[0;34m(effective_irradiance, temp_cell, module)\u001b[0m\n\u001b[1;32m   1594\u001b[0m     \u001b[0mnp\u001b[0m\u001b[0;34m.\u001b[0m\u001b[0mequal\u001b[0m\u001b[0;34m(\u001b[0m\u001b[0mEe\u001b[0m\u001b[0;34m,\u001b[0m \u001b[0;36m0\u001b[0m\u001b[0;34m,\u001b[0m \u001b[0mwhere\u001b[0m\u001b[0;34m=\u001b[0m\u001b[0mnotnan\u001b[0m\u001b[0;34m,\u001b[0m \u001b[0mout\u001b[0m\u001b[0;34m=\u001b[0m\u001b[0mEe_eq_0\u001b[0m\u001b[0;34m)\u001b[0m\u001b[0;34m\u001b[0m\u001b[0;34m\u001b[0m\u001b[0m\n\u001b[1;32m   1595\u001b[0m \u001b[0;34m\u001b[0m\u001b[0m\n\u001b[0;32m-> 1596\u001b[0;31m     \u001b[0mBvmpo\u001b[0m \u001b[0;34m=\u001b[0m \u001b[0mmodule\u001b[0m\u001b[0;34m[\u001b[0m\u001b[0;34m'Bvmpo'\u001b[0m\u001b[0;34m]\u001b[0m \u001b[0;34m+\u001b[0m \u001b[0mmodule\u001b[0m\u001b[0;34m[\u001b[0m\u001b[0;34m'Mbvmp'\u001b[0m\u001b[0;34m]\u001b[0m\u001b[0;34m*\u001b[0m\u001b[0;34m(\u001b[0m\u001b[0;36m1\u001b[0m \u001b[0;34m-\u001b[0m \u001b[0mEe\u001b[0m\u001b[0;34m)\u001b[0m\u001b[0;34m\u001b[0m\u001b[0;34m\u001b[0m\u001b[0m\n\u001b[0m\u001b[1;32m   1597\u001b[0m     \u001b[0mBvoco\u001b[0m \u001b[0;34m=\u001b[0m \u001b[0mmodule\u001b[0m\u001b[0;34m[\u001b[0m\u001b[0;34m'Bvoco'\u001b[0m\u001b[0;34m]\u001b[0m \u001b[0;34m+\u001b[0m \u001b[0mmodule\u001b[0m\u001b[0;34m[\u001b[0m\u001b[0;34m'Mbvoc'\u001b[0m\u001b[0;34m]\u001b[0m\u001b[0;34m*\u001b[0m\u001b[0;34m(\u001b[0m\u001b[0;36m1\u001b[0m \u001b[0;34m-\u001b[0m \u001b[0mEe\u001b[0m\u001b[0;34m)\u001b[0m\u001b[0;34m\u001b[0m\u001b[0;34m\u001b[0m\u001b[0m\n\u001b[1;32m   1598\u001b[0m     \u001b[0mdelta\u001b[0m \u001b[0;34m=\u001b[0m \u001b[0mmodule\u001b[0m\u001b[0;34m[\u001b[0m\u001b[0;34m'N'\u001b[0m\u001b[0;34m]\u001b[0m \u001b[0;34m*\u001b[0m \u001b[0mkb\u001b[0m \u001b[0;34m*\u001b[0m \u001b[0;34m(\u001b[0m\u001b[0mtemp_cell\u001b[0m \u001b[0;34m+\u001b[0m \u001b[0;36m273.15\u001b[0m\u001b[0;34m)\u001b[0m \u001b[0;34m/\u001b[0m \u001b[0mq\u001b[0m\u001b[0;34m\u001b[0m\u001b[0;34m\u001b[0m\u001b[0m\n",
      "\u001b[0;32m~/Desktop/Tesis Pvlib/env_pvlib_tesis/lib/python3.8/site-packages/pandas/core/series.py\u001b[0m in \u001b[0;36m__getitem__\u001b[0;34m(self, key)\u001b[0m\n\u001b[1;32m    880\u001b[0m \u001b[0;34m\u001b[0m\u001b[0m\n\u001b[1;32m    881\u001b[0m         \u001b[0;32melif\u001b[0m \u001b[0mkey_is_scalar\u001b[0m\u001b[0;34m:\u001b[0m\u001b[0;34m\u001b[0m\u001b[0;34m\u001b[0m\u001b[0m\n\u001b[0;32m--> 882\u001b[0;31m             \u001b[0;32mreturn\u001b[0m \u001b[0mself\u001b[0m\u001b[0;34m.\u001b[0m\u001b[0m_get_value\u001b[0m\u001b[0;34m(\u001b[0m\u001b[0mkey\u001b[0m\u001b[0;34m)\u001b[0m\u001b[0;34m\u001b[0m\u001b[0;34m\u001b[0m\u001b[0m\n\u001b[0m\u001b[1;32m    883\u001b[0m \u001b[0;34m\u001b[0m\u001b[0m\n\u001b[1;32m    884\u001b[0m         \u001b[0;32mif\u001b[0m \u001b[0mis_hashable\u001b[0m\u001b[0;34m(\u001b[0m\u001b[0mkey\u001b[0m\u001b[0;34m)\u001b[0m\u001b[0;34m:\u001b[0m\u001b[0;34m\u001b[0m\u001b[0;34m\u001b[0m\u001b[0m\n",
      "\u001b[0;32m~/Desktop/Tesis Pvlib/env_pvlib_tesis/lib/python3.8/site-packages/pandas/core/series.py\u001b[0m in \u001b[0;36m_get_value\u001b[0;34m(self, label, takeable)\u001b[0m\n\u001b[1;32m    987\u001b[0m \u001b[0;34m\u001b[0m\u001b[0m\n\u001b[1;32m    988\u001b[0m         \u001b[0;31m# Similar to Index.get_value, but we do not fall back to positional\u001b[0m\u001b[0;34m\u001b[0m\u001b[0;34m\u001b[0m\u001b[0;34m\u001b[0m\u001b[0m\n\u001b[0;32m--> 989\u001b[0;31m         \u001b[0mloc\u001b[0m \u001b[0;34m=\u001b[0m \u001b[0mself\u001b[0m\u001b[0;34m.\u001b[0m\u001b[0mindex\u001b[0m\u001b[0;34m.\u001b[0m\u001b[0mget_loc\u001b[0m\u001b[0;34m(\u001b[0m\u001b[0mlabel\u001b[0m\u001b[0;34m)\u001b[0m\u001b[0;34m\u001b[0m\u001b[0;34m\u001b[0m\u001b[0m\n\u001b[0m\u001b[1;32m    990\u001b[0m         \u001b[0;32mreturn\u001b[0m \u001b[0mself\u001b[0m\u001b[0;34m.\u001b[0m\u001b[0mindex\u001b[0m\u001b[0;34m.\u001b[0m\u001b[0m_get_values_for_loc\u001b[0m\u001b[0;34m(\u001b[0m\u001b[0mself\u001b[0m\u001b[0;34m,\u001b[0m \u001b[0mloc\u001b[0m\u001b[0;34m,\u001b[0m \u001b[0mlabel\u001b[0m\u001b[0;34m)\u001b[0m\u001b[0;34m\u001b[0m\u001b[0;34m\u001b[0m\u001b[0m\n\u001b[1;32m    991\u001b[0m \u001b[0;34m\u001b[0m\u001b[0m\n",
      "\u001b[0;32m~/Desktop/Tesis Pvlib/env_pvlib_tesis/lib/python3.8/site-packages/pandas/core/indexes/base.py\u001b[0m in \u001b[0;36mget_loc\u001b[0;34m(self, key, method, tolerance)\u001b[0m\n\u001b[1;32m   2895\u001b[0m                 \u001b[0;32mreturn\u001b[0m \u001b[0mself\u001b[0m\u001b[0;34m.\u001b[0m\u001b[0m_engine\u001b[0m\u001b[0;34m.\u001b[0m\u001b[0mget_loc\u001b[0m\u001b[0;34m(\u001b[0m\u001b[0mcasted_key\u001b[0m\u001b[0;34m)\u001b[0m\u001b[0;34m\u001b[0m\u001b[0;34m\u001b[0m\u001b[0m\n\u001b[1;32m   2896\u001b[0m             \u001b[0;32mexcept\u001b[0m \u001b[0mKeyError\u001b[0m \u001b[0;32mas\u001b[0m \u001b[0merr\u001b[0m\u001b[0;34m:\u001b[0m\u001b[0;34m\u001b[0m\u001b[0;34m\u001b[0m\u001b[0m\n\u001b[0;32m-> 2897\u001b[0;31m                 \u001b[0;32mraise\u001b[0m \u001b[0mKeyError\u001b[0m\u001b[0;34m(\u001b[0m\u001b[0mkey\u001b[0m\u001b[0;34m)\u001b[0m \u001b[0;32mfrom\u001b[0m \u001b[0merr\u001b[0m\u001b[0;34m\u001b[0m\u001b[0;34m\u001b[0m\u001b[0m\n\u001b[0m\u001b[1;32m   2898\u001b[0m \u001b[0;34m\u001b[0m\u001b[0m\n\u001b[1;32m   2899\u001b[0m         \u001b[0;32mif\u001b[0m \u001b[0mtolerance\u001b[0m \u001b[0;32mis\u001b[0m \u001b[0;32mnot\u001b[0m \u001b[0;32mNone\u001b[0m\u001b[0;34m:\u001b[0m\u001b[0;34m\u001b[0m\u001b[0;34m\u001b[0m\u001b[0m\n",
      "\u001b[0;31mKeyError\u001b[0m: 'Bvmpo'"
     ]
    }
   ],
   "source": [
    "sapm_out = pvsystem.sapm(effective_irradiance, pvtemp, cec_module)\n",
    "#print(sapm_out.head())\n",
    "sapm_out[['p_mp']].plot()\n",
    "plt.ylabel('DC Power (W)');"
   ]
  },
  {
   "cell_type": "code",
   "execution_count": null,
   "metadata": {},
   "outputs": [],
   "source": [
    "sapm_inverters = pvsystem.retrieve_sam('sandiainverter')"
   ]
  },
  {
   "cell_type": "code",
   "execution_count": null,
   "metadata": {},
   "outputs": [],
   "source": [
    "sapm_inverter = sapm_inverters['ABB__MICRO_0_25_I_OUTD_US_208__208V_']\n",
    "sapm_inverter"
   ]
  },
  {
   "cell_type": "code",
   "execution_count": null,
   "metadata": {},
   "outputs": [],
   "source": [
    "p_ac = inverter.sandia(sapm_out.v_mp, sapm_out.p_mp, sapm_inverter)\n",
    "\n",
    "p_ac.plot()\n",
    "plt.ylabel('AC Power (W)')\n",
    "plt.ylim(0, None);"
   ]
  },
  {
   "cell_type": "code",
   "execution_count": null,
   "metadata": {},
   "outputs": [],
   "source": [
    "p_ac[start:start+pd.Timedelta(days=2)].plot();"
   ]
  },
  {
   "cell_type": "code",
   "execution_count": null,
   "metadata": {},
   "outputs": [],
   "source": [
    "p_ac.describe()"
   ]
  },
  {
   "cell_type": "code",
   "execution_count": null,
   "metadata": {},
   "outputs": [],
   "source": [
    "p_ac.index.freq"
   ]
  },
  {
   "cell_type": "code",
   "execution_count": null,
   "metadata": {},
   "outputs": [],
   "source": [
    "# integrate power to find energy yield over the forecast period\n",
    "p_ac.sum() * 3"
   ]
  },
  {
   "cell_type": "code",
   "execution_count": null,
   "metadata": {},
   "outputs": [],
   "source": []
  }
 ],
 "metadata": {
  "kernelspec": {
   "display_name": "Python 3",
   "language": "python",
   "name": "python3"
  },
  "language_info": {
   "codemirror_mode": {
    "name": "ipython",
    "version": 3
   },
   "file_extension": ".py",
   "mimetype": "text/x-python",
   "name": "python",
   "nbconvert_exporter": "python",
   "pygments_lexer": "ipython3",
   "version": "3.8.3"
  }
 },
 "nbformat": 4,
 "nbformat_minor": 4
}
