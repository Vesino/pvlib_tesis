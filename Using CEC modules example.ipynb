{
 "cells": [
  {
   "cell_type": "code",
   "execution_count": 1,
   "metadata": {},
   "outputs": [],
   "source": [
    "import os\n",
    "import pvlib\n",
    "import pandas as pd"
   ]
  },
  {
   "cell_type": "code",
   "execution_count": 2,
   "metadata": {},
   "outputs": [],
   "source": [
    "YEAR = 1990\n",
    "STARTDATE = '%d-01-01T00:00:00' % YEAR\n",
    "ENDDATE = '%d-12-31T23:59:59' % YEAR\n",
    "TIMES = pd.date_range(start=STARTDATE, end=ENDDATE, freq='H')\n",
    "INVERTERS = pvlib.pvsystem.retrieve_sam('CECInverter')\n",
    "INVERTER_10K = INVERTERS['SMA_America__SB10000TL_US__240V_']\n",
    "CECMODS = pvlib.pvsystem.retrieve_sam('CECMod')\n",
    "CECMOD_POLY = CECMODS['Canadian_Solar_Inc__CS6X_300P']\n",
    "CECMOD_MONO = CECMODS['Canadian_Solar_Inc__CS6X_300M']\n",
    "LATITUDE, LONGITUDE = 40.5137, -108.5449\n",
    "NREL_API_KEY = os.getenv('NREL_API_KEY', 'DEMO_KEY')\n",
    "EMAIL = os.getenv('EMAIL', 'bwana.marko@yahoo.com')"
   ]
  },
  {
   "cell_type": "code",
   "execution_count": 3,
   "metadata": {},
   "outputs": [],
   "source": [
    "header, data = pvlib.iotools.get_psm3(LATITUDE, LONGITUDE, NREL_API_KEY, EMAIL)"
   ]
  },
  {
   "cell_type": "code",
   "execution_count": 4,
   "metadata": {},
   "outputs": [],
   "source": [
    "# get solar position\n",
    "data.index = TIMES\n",
    "sp = pvlib.solarposition.get_solarposition(\n",
    "        TIMES, LATITUDE, LONGITUDE)"
   ]
  },
  {
   "cell_type": "code",
   "execution_count": 5,
   "metadata": {},
   "outputs": [],
   "source": [
    "solar_zenith = sp.apparent_zenith.values\n",
    "solar_azimuth = sp.azimuth.values"
   ]
  },
  {
   "cell_type": "code",
   "execution_count": 7,
   "metadata": {},
   "outputs": [],
   "source": [
    "dni = data.DNI.values\n",
    "ghi = data.GHI.values\n",
    "dhi = data.DHI.values"
   ]
  },
  {
   "cell_type": "code",
   "execution_count": 8,
   "metadata": {},
   "outputs": [],
   "source": [
    "surface_albedo = data['Surface Albedo'].values\n",
    "temp_air = data.Temperature.values\n",
    "dni_extra = pvlib.irradiance.get_extra_radiation(TIMES).values"
   ]
  },
  {
   "cell_type": "code",
   "execution_count": 9,
   "metadata": {},
   "outputs": [],
   "source": [
    "tracker = pvlib.tracking.singleaxis(solar_zenith, solar_azimuth)"
   ]
  },
  {
   "cell_type": "code",
   "execution_count": 10,
   "metadata": {},
   "outputs": [],
   "source": [
    "surface_tilt = tracker['surface_tilt']"
   ]
  },
  {
   "cell_type": "code",
   "execution_count": 11,
   "metadata": {},
   "outputs": [],
   "source": [
    "surface_azimuth = tracker['surface_azimuth']"
   ]
  },
  {
   "cell_type": "code",
   "execution_count": 12,
   "metadata": {},
   "outputs": [],
   "source": [
    "poa_sky_diffuse = pvlib.irradiance.get_sky_diffuse(\n",
    "        surface_tilt, surface_azimuth, solar_zenith, solar_azimuth,\n",
    "        dni, ghi, dhi, dni_extra=dni_extra, model='haydavies')"
   ]
  },
  {
   "cell_type": "code",
   "execution_count": 13,
   "metadata": {},
   "outputs": [],
   "source": [
    "aoi = tracker['aoi']"
   ]
  },
  {
   "cell_type": "code",
   "execution_count": 14,
   "metadata": {},
   "outputs": [],
   "source": [
    "poa_ground_diffuse = pvlib.irradiance.get_ground_diffuse(\n",
    "        surface_tilt, ghi, albedo=surface_albedo)"
   ]
  },
  {
   "cell_type": "code",
   "execution_count": 15,
   "metadata": {},
   "outputs": [],
   "source": [
    "poa = pvlib.irradiance.poa_components(\n",
    "        aoi, dni, poa_sky_diffuse, poa_ground_diffuse)"
   ]
  },
  {
   "cell_type": "code",
   "execution_count": 16,
   "metadata": {},
   "outputs": [],
   "source": [
    "poa_direct = poa['poa_direct']"
   ]
  },
  {
   "cell_type": "code",
   "execution_count": 17,
   "metadata": {},
   "outputs": [],
   "source": [
    "poa_diffuse = poa['poa_diffuse']"
   ]
  },
  {
   "cell_type": "code",
   "execution_count": 18,
   "metadata": {},
   "outputs": [],
   "source": [
    "poa_global = poa['poa_global']"
   ]
  },
  {
   "cell_type": "code",
   "execution_count": 19,
   "metadata": {},
   "outputs": [],
   "source": [
    "iam = pvlib.iam.ashrae(aoi)"
   ]
  },
  {
   "cell_type": "code",
   "execution_count": 20,
   "metadata": {},
   "outputs": [],
   "source": [
    "effective_irradiance = poa_direct*iam + poa_diffuse"
   ]
  },
  {
   "cell_type": "code",
   "execution_count": 21,
   "metadata": {},
   "outputs": [],
   "source": [
    "temp_cell = pvlib.temperature.pvsyst_cell(poa_global, temp_air)"
   ]
  },
  {
   "cell_type": "code",
   "execution_count": 22,
   "metadata": {},
   "outputs": [],
   "source": [
    "# this is the magic\n",
    "cecparams = pvlib.pvsystem.calcparams_cec(\n",
    "        effective_irradiance, temp_cell,\n",
    "        CECMOD_MONO.alpha_sc, CECMOD_MONO.a_ref,\n",
    "        CECMOD_MONO.I_L_ref, CECMOD_MONO.I_o_ref,\n",
    "        CECMOD_MONO.R_sh_ref, CECMOD_MONO.R_s, CECMOD_MONO.Adjust)\n",
    "mpp = pvlib.pvsystem.max_power_point(*cecparams, method='newton')\n",
    "mpp = pd.DataFrame(mpp, index=TIMES)\n",
    "Edaily = mpp.p_mp.resample('D').sum()"
   ]
  },
  {
   "cell_type": "code",
   "execution_count": null,
   "metadata": {},
   "outputs": [],
   "source": []
  },
  {
   "cell_type": "code",
   "execution_count": null,
   "metadata": {},
   "outputs": [],
   "source": []
  }
 ],
 "metadata": {
  "kernelspec": {
   "display_name": "Python 3",
   "language": "python",
   "name": "python3"
  },
  "language_info": {
   "codemirror_mode": {
    "name": "ipython",
    "version": 3
   },
   "file_extension": ".py",
   "mimetype": "text/x-python",
   "name": "python",
   "nbconvert_exporter": "python",
   "pygments_lexer": "ipython3",
   "version": "3.8.3"
  }
 },
 "nbformat": 4,
 "nbformat_minor": 4
}
