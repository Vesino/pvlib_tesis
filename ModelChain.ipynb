{
 "cells": [
  {
   "cell_type": "markdown",
   "metadata": {},
   "source": [
    "# MODELCHAIN"
   ]
  },
  {
   "cell_type": "code",
   "execution_count": 1,
   "metadata": {},
   "outputs": [],
   "source": [
    "import pandas as pd\n",
    "import matplotlib.pyplot as plt\n",
    "import pvlib\n",
    "from pvlib.pvsystem import PVSystem\n",
    "from pvlib.location import Location\n",
    "from pvlib.modelchain import ModelChain\n",
    "from pvlib.temperature import TEMPERATURE_MODEL_PARAMETERS"
   ]
  },
  {
   "cell_type": "code",
   "execution_count": 2,
   "metadata": {},
   "outputs": [],
   "source": [
    "temperature_model_parameters = TEMPERATURE_MODEL_PARAMETERS['sapm']['open_rack_glass_glass']"
   ]
  },
  {
   "cell_type": "code",
   "execution_count": 3,
   "metadata": {},
   "outputs": [],
   "source": [
    "cec_modules = pvlib.pvsystem.retrieve_sam('CECMod')\n",
    "cec_inverters = pvlib.pvsystem.retrieve_sam('cecinverter')\n",
    "\n",
    "cec_module = cec_modules['Canadian_Solar_Inc__CS6X_320P']\n",
    "cec_inverter = cec_inverters['INGETEAM_POWER_TECHNOLOGY_S_A___Ingecon_Sun_40TL_U_M__480V_']"
   ]
  },
  {
   "cell_type": "code",
   "execution_count": 4,
   "metadata": {
    "scrolled": true
   },
   "outputs": [
    {
     "data": {
      "text/plain": [
       "Technology           Multi-c-Si\n",
       "Bifacial                      0\n",
       "STC                     319.792\n",
       "PTC                       292.8\n",
       "A_c                       1.901\n",
       "Length                    1.948\n",
       "Width                     0.976\n",
       "N_s                          72\n",
       "I_sc_ref                   9.26\n",
       "V_oc_ref                   45.3\n",
       "I_mp_ref                   8.69\n",
       "V_mp_ref                   36.8\n",
       "alpha_sc               0.004389\n",
       "beta_oc               -0.139116\n",
       "T_NOCT                     45.8\n",
       "a_ref                   1.78528\n",
       "I_L_ref                  9.2705\n",
       "I_o_ref             8.72084e-11\n",
       "R_s                    0.362235\n",
       "R_sh_ref                319.379\n",
       "Adjust                  5.85738\n",
       "gamma_r                 -0.4002\n",
       "BIPV                          N\n",
       "Version       SAM 2018.11.11 r2\n",
       "Date                   1/3/2019\n",
       "Name: Canadian_Solar_Inc__CS6X_320P, dtype: object"
      ]
     },
     "execution_count": 4,
     "metadata": {},
     "output_type": "execute_result"
    }
   ],
   "source": [
    "cec_module"
   ]
  },
  {
   "cell_type": "code",
   "execution_count": 5,
   "metadata": {},
   "outputs": [
    {
     "data": {
      "text/plain": [
       "Vac                          480\n",
       "Pso                       75.262\n",
       "Paco                       39950\n",
       "Pdco                     41044.5\n",
       "Vdco                         700\n",
       "C0                  -4.21213e-07\n",
       "C1                      -3.3e-05\n",
       "C2                      0.000303\n",
       "C3                     -0.001313\n",
       "Pnt                       11.985\n",
       "Vdcmax                       820\n",
       "Idcmax                   58.6349\n",
       "Mppt_low                     520\n",
       "Mppt_high                    820\n",
       "CEC_Date               5/15/2018\n",
       "CEC_Type     Utility Interactive\n",
       "Name: INGETEAM_POWER_TECHNOLOGY_S_A___Ingecon_Sun_40TL_U_M__480V_, dtype: object"
      ]
     },
     "execution_count": 5,
     "metadata": {},
     "output_type": "execute_result"
    }
   ],
   "source": [
    "cec_inverter"
   ]
  },
  {
   "cell_type": "code",
   "execution_count": 6,
   "metadata": {},
   "outputs": [],
   "source": [
    "latitude= 20.56\n",
    "longitude= -103.22\n",
    "altitude=1544\n",
    "tz='America/Mexico_City'"
   ]
  },
  {
   "cell_type": "code",
   "execution_count": 7,
   "metadata": {},
   "outputs": [],
   "source": [
    "location = Location(latitude=latitude, longitude=longitude, altitude=altitude, tz=tz)"
   ]
  },
  {
   "cell_type": "code",
   "execution_count": 8,
   "metadata": {},
   "outputs": [],
   "source": [
    "surface_tilt = 25\n",
    "surface_azimuth = 180 # pvlib uses 0=North, 90=East, 180=South, 270=West convention\n",
    "albedo = 0.2"
   ]
  },
  {
   "cell_type": "code",
   "execution_count": 9,
   "metadata": {},
   "outputs": [],
   "source": [
    "system = PVSystem(surface_tilt=surface_tilt, surface_azimuth=surface_azimuth,\n",
    "                 module_parameters=cec_module,\n",
    "                 inverter_parameters=cec_inverter,\n",
    "                 temperature_model_parameters=temperature_model_parameters,\n",
    "                 albedo=albedo, surface_type=None, module=None, \n",
    "                 module_type='glass_polymer',\n",
    "                 modules_per_string=19.5, \n",
    "                 strings_per_inverter=8, inverter=None, \n",
    "                 racking_model='open_rack', \n",
    "                 losses_parameters=None, \n",
    "                 name='Name of PV system: Huerto de Cutonalá')"
   ]
  },
  {
   "cell_type": "code",
   "execution_count": 10,
   "metadata": {},
   "outputs": [],
   "source": [
    "#system"
   ]
  },
  {
   "cell_type": "code",
   "execution_count": 11,
   "metadata": {},
   "outputs": [],
   "source": [
    "mc = ModelChain(system, location, name='Huerto de Cutonalá', \n",
    "                clearsky_model='ineichen', transposition_model='haydavies', \n",
    "                solar_position_method='nrel_numpy', airmass_model='kastenyoung1989',\n",
    "                dc_model=None, #from module specifications\n",
    "                ac_model='sandia', #from inverter specifications\n",
    "                aoi_model='no_loss', \n",
    "                spectral_model='no_loss', #spectral model 'no loss' otherwise error\n",
    "                temperature_model='sapm', losses_model='no_loss')"
   ]
  },
  {
   "cell_type": "code",
   "execution_count": 12,
   "metadata": {},
   "outputs": [],
   "source": [
    "#mc"
   ]
  },
  {
   "cell_type": "code",
   "execution_count": 13,
   "metadata": {},
   "outputs": [],
   "source": [
    "import datetime\n",
    "#Variables de tiempo\n",
    "\n",
    "start = pd.Timestamp(datetime.date.today(), tz='America/Mexico_City') # today's date\n",
    "end = start + pd.Timedelta(days=7) # 7 days from today\n",
    "\n",
    "#9 de diciebre a partir del 16 de diciembre\n",
    "start9_dec = start - pd.Timedelta(days=7)\n",
    "end9_dec = start9_dec + pd.Timedelta(days=1)"
   ]
  },
  {
   "cell_type": "code",
   "execution_count": 14,
   "metadata": {},
   "outputs": [
    {
     "data": {
      "text/plain": [
       "Timestamp('2020-12-09 00:00:00-0600', tz='America/Mexico_City')"
      ]
     },
     "execution_count": 14,
     "metadata": {},
     "output_type": "execute_result"
    }
   ],
   "source": [
    "start9_dec"
   ]
  },
  {
   "cell_type": "code",
   "execution_count": 15,
   "metadata": {},
   "outputs": [
    {
     "data": {
      "text/plain": [
       "Timestamp('2020-12-10 00:00:00-0600', tz='America/Mexico_City')"
      ]
     },
     "execution_count": 15,
     "metadata": {},
     "output_type": "execute_result"
    }
   ],
   "source": [
    "end9_dec"
   ]
  },
  {
   "cell_type": "code",
   "execution_count": 16,
   "metadata": {},
   "outputs": [
    {
     "name": "stderr",
     "output_type": "stream",
     "text": [
      "/Users/luisvargas/Desktop/Tesis Pvlib/env_pvlib_tesis/lib/python3.8/site-packages/pvlib/forecast.py:18: UserWarning: The forecast module algorithms and features are highly experimental. The API may change, the functionality may be consolidated into an io module, or the module may be separated into its own package.\n",
      "  warnings.warn(\n"
     ]
    }
   ],
   "source": [
    "from pvlib import solarposition, irradiance, atmosphere, pvsystem, inverter, temperature, iam\n",
    "from pvlib.forecast import GFS, NAM, NDFD, RAP, HRRR"
   ]
  },
  {
   "cell_type": "code",
   "execution_count": 17,
   "metadata": {},
   "outputs": [],
   "source": [
    "# Se define el modelo de pronostico\n",
    "fm = GFS()\n",
    "#fm = NAM()\n",
    "#fm = NDFD()\n",
    "#fm = RAP()\n",
    "#fm = HRRR()"
   ]
  },
  {
   "cell_type": "code",
   "execution_count": 18,
   "metadata": {},
   "outputs": [],
   "source": [
    "# Se obtiene la data y se procesa del modelo de pronostico\n",
    "forecast_data = fm.get_processed_data(latitude, longitude, start9_dec, end9_dec)"
   ]
  },
  {
   "cell_type": "code",
   "execution_count": 19,
   "metadata": {
    "scrolled": true
   },
   "outputs": [
    {
     "data": {
      "text/html": [
       "<div>\n",
       "<style scoped>\n",
       "    .dataframe tbody tr th:only-of-type {\n",
       "        vertical-align: middle;\n",
       "    }\n",
       "\n",
       "    .dataframe tbody tr th {\n",
       "        vertical-align: top;\n",
       "    }\n",
       "\n",
       "    .dataframe thead th {\n",
       "        text-align: right;\n",
       "    }\n",
       "</style>\n",
       "<table border=\"1\" class=\"dataframe\">\n",
       "  <thead>\n",
       "    <tr style=\"text-align: right;\">\n",
       "      <th></th>\n",
       "      <th>temp_air</th>\n",
       "      <th>wind_speed</th>\n",
       "      <th>ghi</th>\n",
       "      <th>dni</th>\n",
       "      <th>dhi</th>\n",
       "      <th>total_clouds</th>\n",
       "      <th>low_clouds</th>\n",
       "      <th>mid_clouds</th>\n",
       "      <th>high_clouds</th>\n",
       "    </tr>\n",
       "  </thead>\n",
       "  <tbody>\n",
       "    <tr>\n",
       "      <th>2020-12-09 06:00:00-06:00</th>\n",
       "      <td>14.222504</td>\n",
       "      <td>0.530006</td>\n",
       "      <td>0.000000</td>\n",
       "      <td>0.000000</td>\n",
       "      <td>0.000000</td>\n",
       "      <td>96.0</td>\n",
       "      <td>0.0</td>\n",
       "      <td>38.0</td>\n",
       "      <td>94.0</td>\n",
       "    </tr>\n",
       "    <tr>\n",
       "      <th>2020-12-09 09:00:00-06:00</th>\n",
       "      <td>13.035370</td>\n",
       "      <td>0.824129</td>\n",
       "      <td>178.799104</td>\n",
       "      <td>107.607499</td>\n",
       "      <td>142.093117</td>\n",
       "      <td>60.0</td>\n",
       "      <td>0.0</td>\n",
       "      <td>1.0</td>\n",
       "      <td>60.0</td>\n",
       "    </tr>\n",
       "    <tr>\n",
       "      <th>2020-12-09 12:00:00-06:00</th>\n",
       "      <td>11.983917</td>\n",
       "      <td>1.518421</td>\n",
       "      <td>526.032816</td>\n",
       "      <td>260.404947</td>\n",
       "      <td>341.456002</td>\n",
       "      <td>43.0</td>\n",
       "      <td>0.0</td>\n",
       "      <td>1.0</td>\n",
       "      <td>43.0</td>\n",
       "    </tr>\n",
       "    <tr>\n",
       "      <th>2020-12-09 15:00:00-06:00</th>\n",
       "      <td>18.998260</td>\n",
       "      <td>1.151956</td>\n",
       "      <td>577.015548</td>\n",
       "      <td>813.945280</td>\n",
       "      <td>103.736876</td>\n",
       "      <td>0.0</td>\n",
       "      <td>0.0</td>\n",
       "      <td>0.0</td>\n",
       "      <td>0.0</td>\n",
       "    </tr>\n",
       "    <tr>\n",
       "      <th>2020-12-09 18:00:00-06:00</th>\n",
       "      <td>32.964172</td>\n",
       "      <td>0.950516</td>\n",
       "      <td>4.974719</td>\n",
       "      <td>0.000000</td>\n",
       "      <td>4.974719</td>\n",
       "      <td>1.0</td>\n",
       "      <td>0.0</td>\n",
       "      <td>1.0</td>\n",
       "      <td>0.0</td>\n",
       "    </tr>\n",
       "  </tbody>\n",
       "</table>\n",
       "</div>"
      ],
      "text/plain": [
       "                            temp_air  wind_speed         ghi         dni  \\\n",
       "2020-12-09 06:00:00-06:00  14.222504    0.530006    0.000000    0.000000   \n",
       "2020-12-09 09:00:00-06:00  13.035370    0.824129  178.799104  107.607499   \n",
       "2020-12-09 12:00:00-06:00  11.983917    1.518421  526.032816  260.404947   \n",
       "2020-12-09 15:00:00-06:00  18.998260    1.151956  577.015548  813.945280   \n",
       "2020-12-09 18:00:00-06:00  32.964172    0.950516    4.974719    0.000000   \n",
       "\n",
       "                                  dhi  total_clouds  low_clouds  mid_clouds  \\\n",
       "2020-12-09 06:00:00-06:00    0.000000          96.0         0.0        38.0   \n",
       "2020-12-09 09:00:00-06:00  142.093117          60.0         0.0         1.0   \n",
       "2020-12-09 12:00:00-06:00  341.456002          43.0         0.0         1.0   \n",
       "2020-12-09 15:00:00-06:00  103.736876           0.0         0.0         0.0   \n",
       "2020-12-09 18:00:00-06:00    4.974719           1.0         0.0         1.0   \n",
       "\n",
       "                           high_clouds  \n",
       "2020-12-09 06:00:00-06:00         94.0  \n",
       "2020-12-09 09:00:00-06:00         60.0  \n",
       "2020-12-09 12:00:00-06:00         43.0  \n",
       "2020-12-09 15:00:00-06:00          0.0  \n",
       "2020-12-09 18:00:00-06:00          0.0  "
      ]
     },
     "execution_count": 19,
     "metadata": {},
     "output_type": "execute_result"
    }
   ],
   "source": [
    "#pd.set_option('display.max_columns', None)\n",
    "forecast_data.head()"
   ]
  },
  {
   "cell_type": "code",
   "execution_count": 20,
   "metadata": {},
   "outputs": [],
   "source": [
    "ghi = forecast_data['ghi']\n",
    "dni = forecast_data['dni']\n",
    "dhi = forecast_data['dhi']\n",
    "temp_air = forecast_data['temp_air']\n",
    "wind_speed = forecast_data['wind_speed']\n",
    "indexDF = forecast_data.index"
   ]
  },
  {
   "cell_type": "code",
   "execution_count": 21,
   "metadata": {},
   "outputs": [],
   "source": [
    "weather = pd.DataFrame([dni, ghi, dhi, temp_air, wind_speed]).T"
   ]
  },
  {
   "cell_type": "code",
   "execution_count": 22,
   "metadata": {},
   "outputs": [
    {
     "data": {
      "text/plain": [
       "ModelChain: \n",
       "  name: Huerto de Cutonalá\n",
       "  orientation_strategy: None\n",
       "  clearsky_model: ineichen\n",
       "  transposition_model: haydavies\n",
       "  solar_position_method: nrel_numpy\n",
       "  airmass_model: kastenyoung1989\n",
       "  dc_model: cec\n",
       "  ac_model: snlinverter\n",
       "  aoi_model: no_aoi_loss\n",
       "  spectral_model: no_spectral_loss\n",
       "  temperature_model: sapm_temp\n",
       "  losses_model: no_extra_losses"
      ]
     },
     "execution_count": 22,
     "metadata": {},
     "output_type": "execute_result"
    }
   ],
   "source": [
    "mc.run_model(weather)"
   ]
  },
  {
   "cell_type": "code",
   "execution_count": 23,
   "metadata": {
    "scrolled": true
   },
   "outputs": [
    {
     "data": {
      "text/html": [
       "<div>\n",
       "<style scoped>\n",
       "    .dataframe tbody tr th:only-of-type {\n",
       "        vertical-align: middle;\n",
       "    }\n",
       "\n",
       "    .dataframe tbody tr th {\n",
       "        vertical-align: top;\n",
       "    }\n",
       "\n",
       "    .dataframe thead th {\n",
       "        text-align: right;\n",
       "    }\n",
       "</style>\n",
       "<table border=\"1\" class=\"dataframe\">\n",
       "  <thead>\n",
       "    <tr style=\"text-align: right;\">\n",
       "      <th></th>\n",
       "      <th>i_sc</th>\n",
       "      <th>v_oc</th>\n",
       "      <th>i_mp</th>\n",
       "      <th>v_mp</th>\n",
       "      <th>p_mp</th>\n",
       "      <th>i_x</th>\n",
       "      <th>i_xx</th>\n",
       "    </tr>\n",
       "  </thead>\n",
       "  <tbody>\n",
       "    <tr>\n",
       "      <th>2020-12-09 06:00:00-06:00</th>\n",
       "      <td>0.000000e+00</td>\n",
       "      <td>0.000000</td>\n",
       "      <td>0.000000e+00</td>\n",
       "      <td>0.000000</td>\n",
       "      <td>0.000000</td>\n",
       "      <td>0.000000e+00</td>\n",
       "      <td>0.000000e+00</td>\n",
       "    </tr>\n",
       "    <tr>\n",
       "      <th>2020-12-09 09:00:00-06:00</th>\n",
       "      <td>1.493657e+01</td>\n",
       "      <td>844.110553</td>\n",
       "      <td>1.408174e+01</td>\n",
       "      <td>725.886156</td>\n",
       "      <td>10221.740241</td>\n",
       "      <td>1.482703e+01</td>\n",
       "      <td>1.124183e+01</td>\n",
       "    </tr>\n",
       "    <tr>\n",
       "      <th>2020-12-09 12:00:00-06:00</th>\n",
       "      <td>4.423736e+01</td>\n",
       "      <td>848.585170</td>\n",
       "      <td>4.151528e+01</td>\n",
       "      <td>705.699374</td>\n",
       "      <td>29297.304984</td>\n",
       "      <td>4.391226e+01</td>\n",
       "      <td>3.104365e+01</td>\n",
       "    </tr>\n",
       "    <tr>\n",
       "      <th>2020-12-09 15:00:00-06:00</th>\n",
       "      <td>5.800239e+01</td>\n",
       "      <td>819.575619</td>\n",
       "      <td>5.414254e+01</td>\n",
       "      <td>665.011384</td>\n",
       "      <td>36005.404384</td>\n",
       "      <td>5.759063e+01</td>\n",
       "      <td>3.920319e+01</td>\n",
       "    </tr>\n",
       "    <tr>\n",
       "      <th>2020-12-09 18:00:00-06:00</th>\n",
       "      <td>3.564014e-01</td>\n",
       "      <td>669.101984</td>\n",
       "      <td>3.320514e-01</td>\n",
       "      <td>567.723030</td>\n",
       "      <td>188.513243</td>\n",
       "      <td>3.543130e-01</td>\n",
       "      <td>2.666639e-01</td>\n",
       "    </tr>\n",
       "    <tr>\n",
       "      <th>2020-12-09 21:00:00-06:00</th>\n",
       "      <td>-4.135903e-25</td>\n",
       "      <td>0.000000</td>\n",
       "      <td>-4.135903e-25</td>\n",
       "      <td>0.000000</td>\n",
       "      <td>-0.000000</td>\n",
       "      <td>-4.135903e-25</td>\n",
       "      <td>-4.135903e-25</td>\n",
       "    </tr>\n",
       "    <tr>\n",
       "      <th>2020-12-10 00:00:00-06:00</th>\n",
       "      <td>5.169879e-26</td>\n",
       "      <td>0.000000</td>\n",
       "      <td>5.169879e-26</td>\n",
       "      <td>0.000000</td>\n",
       "      <td>0.000000</td>\n",
       "      <td>5.169879e-26</td>\n",
       "      <td>5.169879e-26</td>\n",
       "    </tr>\n",
       "  </tbody>\n",
       "</table>\n",
       "</div>"
      ],
      "text/plain": [
       "                                   i_sc        v_oc          i_mp        v_mp  \\\n",
       "2020-12-09 06:00:00-06:00  0.000000e+00    0.000000  0.000000e+00    0.000000   \n",
       "2020-12-09 09:00:00-06:00  1.493657e+01  844.110553  1.408174e+01  725.886156   \n",
       "2020-12-09 12:00:00-06:00  4.423736e+01  848.585170  4.151528e+01  705.699374   \n",
       "2020-12-09 15:00:00-06:00  5.800239e+01  819.575619  5.414254e+01  665.011384   \n",
       "2020-12-09 18:00:00-06:00  3.564014e-01  669.101984  3.320514e-01  567.723030   \n",
       "2020-12-09 21:00:00-06:00 -4.135903e-25    0.000000 -4.135903e-25    0.000000   \n",
       "2020-12-10 00:00:00-06:00  5.169879e-26    0.000000  5.169879e-26    0.000000   \n",
       "\n",
       "                                   p_mp           i_x          i_xx  \n",
       "2020-12-09 06:00:00-06:00      0.000000  0.000000e+00  0.000000e+00  \n",
       "2020-12-09 09:00:00-06:00  10221.740241  1.482703e+01  1.124183e+01  \n",
       "2020-12-09 12:00:00-06:00  29297.304984  4.391226e+01  3.104365e+01  \n",
       "2020-12-09 15:00:00-06:00  36005.404384  5.759063e+01  3.920319e+01  \n",
       "2020-12-09 18:00:00-06:00    188.513243  3.543130e-01  2.666639e-01  \n",
       "2020-12-09 21:00:00-06:00     -0.000000 -4.135903e-25 -4.135903e-25  \n",
       "2020-12-10 00:00:00-06:00      0.000000  5.169879e-26  5.169879e-26  "
      ]
     },
     "execution_count": 23,
     "metadata": {},
     "output_type": "execute_result"
    }
   ],
   "source": [
    "mc.dc"
   ]
  },
  {
   "cell_type": "code",
   "execution_count": 24,
   "metadata": {
    "scrolled": true
   },
   "outputs": [
    {
     "data": {
      "text/html": [
       "<div>\n",
       "<style scoped>\n",
       "    .dataframe tbody tr th:only-of-type {\n",
       "        vertical-align: middle;\n",
       "    }\n",
       "\n",
       "    .dataframe tbody tr th {\n",
       "        vertical-align: top;\n",
       "    }\n",
       "\n",
       "    .dataframe thead th {\n",
       "        text-align: right;\n",
       "    }\n",
       "</style>\n",
       "<table border=\"1\" class=\"dataframe\">\n",
       "  <thead>\n",
       "    <tr style=\"text-align: right;\">\n",
       "      <th></th>\n",
       "      <th>index</th>\n",
       "      <th>i_sc</th>\n",
       "      <th>v_oc</th>\n",
       "      <th>i_mp</th>\n",
       "      <th>v_mp</th>\n",
       "      <th>p_mp</th>\n",
       "      <th>i_x</th>\n",
       "      <th>i_xx</th>\n",
       "    </tr>\n",
       "  </thead>\n",
       "  <tbody>\n",
       "    <tr>\n",
       "      <th>0</th>\n",
       "      <td>2020-12-09 06:00:00-06:00</td>\n",
       "      <td>0.000000e+00</td>\n",
       "      <td>0.000000</td>\n",
       "      <td>0.000000e+00</td>\n",
       "      <td>0.000000</td>\n",
       "      <td>0.000000</td>\n",
       "      <td>0.000000e+00</td>\n",
       "      <td>0.000000e+00</td>\n",
       "    </tr>\n",
       "    <tr>\n",
       "      <th>1</th>\n",
       "      <td>2020-12-09 09:00:00-06:00</td>\n",
       "      <td>1.493657e+01</td>\n",
       "      <td>844.110553</td>\n",
       "      <td>1.408174e+01</td>\n",
       "      <td>725.886156</td>\n",
       "      <td>10221.740241</td>\n",
       "      <td>1.482703e+01</td>\n",
       "      <td>1.124183e+01</td>\n",
       "    </tr>\n",
       "    <tr>\n",
       "      <th>2</th>\n",
       "      <td>2020-12-09 12:00:00-06:00</td>\n",
       "      <td>4.423736e+01</td>\n",
       "      <td>848.585170</td>\n",
       "      <td>4.151528e+01</td>\n",
       "      <td>705.699374</td>\n",
       "      <td>29297.304984</td>\n",
       "      <td>4.391226e+01</td>\n",
       "      <td>3.104365e+01</td>\n",
       "    </tr>\n",
       "    <tr>\n",
       "      <th>3</th>\n",
       "      <td>2020-12-09 15:00:00-06:00</td>\n",
       "      <td>5.800239e+01</td>\n",
       "      <td>819.575619</td>\n",
       "      <td>5.414254e+01</td>\n",
       "      <td>665.011384</td>\n",
       "      <td>36005.404384</td>\n",
       "      <td>5.759063e+01</td>\n",
       "      <td>3.920319e+01</td>\n",
       "    </tr>\n",
       "    <tr>\n",
       "      <th>4</th>\n",
       "      <td>2020-12-09 18:00:00-06:00</td>\n",
       "      <td>3.564014e-01</td>\n",
       "      <td>669.101984</td>\n",
       "      <td>3.320514e-01</td>\n",
       "      <td>567.723030</td>\n",
       "      <td>188.513243</td>\n",
       "      <td>3.543130e-01</td>\n",
       "      <td>2.666639e-01</td>\n",
       "    </tr>\n",
       "    <tr>\n",
       "      <th>5</th>\n",
       "      <td>2020-12-09 21:00:00-06:00</td>\n",
       "      <td>-4.135903e-25</td>\n",
       "      <td>0.000000</td>\n",
       "      <td>-4.135903e-25</td>\n",
       "      <td>0.000000</td>\n",
       "      <td>-0.000000</td>\n",
       "      <td>-4.135903e-25</td>\n",
       "      <td>-4.135903e-25</td>\n",
       "    </tr>\n",
       "    <tr>\n",
       "      <th>6</th>\n",
       "      <td>2020-12-10 00:00:00-06:00</td>\n",
       "      <td>5.169879e-26</td>\n",
       "      <td>0.000000</td>\n",
       "      <td>5.169879e-26</td>\n",
       "      <td>0.000000</td>\n",
       "      <td>0.000000</td>\n",
       "      <td>5.169879e-26</td>\n",
       "      <td>5.169879e-26</td>\n",
       "    </tr>\n",
       "  </tbody>\n",
       "</table>\n",
       "</div>"
      ],
      "text/plain": [
       "                      index          i_sc        v_oc          i_mp  \\\n",
       "0 2020-12-09 06:00:00-06:00  0.000000e+00    0.000000  0.000000e+00   \n",
       "1 2020-12-09 09:00:00-06:00  1.493657e+01  844.110553  1.408174e+01   \n",
       "2 2020-12-09 12:00:00-06:00  4.423736e+01  848.585170  4.151528e+01   \n",
       "3 2020-12-09 15:00:00-06:00  5.800239e+01  819.575619  5.414254e+01   \n",
       "4 2020-12-09 18:00:00-06:00  3.564014e-01  669.101984  3.320514e-01   \n",
       "5 2020-12-09 21:00:00-06:00 -4.135903e-25    0.000000 -4.135903e-25   \n",
       "6 2020-12-10 00:00:00-06:00  5.169879e-26    0.000000  5.169879e-26   \n",
       "\n",
       "         v_mp          p_mp           i_x          i_xx  \n",
       "0    0.000000      0.000000  0.000000e+00  0.000000e+00  \n",
       "1  725.886156  10221.740241  1.482703e+01  1.124183e+01  \n",
       "2  705.699374  29297.304984  4.391226e+01  3.104365e+01  \n",
       "3  665.011384  36005.404384  5.759063e+01  3.920319e+01  \n",
       "4  567.723030    188.513243  3.543130e-01  2.666639e-01  \n",
       "5    0.000000     -0.000000 -4.135903e-25 -4.135903e-25  \n",
       "6    0.000000      0.000000  5.169879e-26  5.169879e-26  "
      ]
     },
     "execution_count": 24,
     "metadata": {},
     "output_type": "execute_result"
    }
   ],
   "source": [
    "forecast_dc = mc.dc.reset_index()\n",
    "forecast_dc"
   ]
  },
  {
   "cell_type": "code",
   "execution_count": 25,
   "metadata": {},
   "outputs": [
    {
     "data": {
      "text/plain": [
       "0   2020-12-09 09:00:00-06:00\n",
       "1   2020-12-09 12:00:00-06:00\n",
       "2   2020-12-09 15:00:00-06:00\n",
       "3   2020-12-09 18:00:00-06:00\n",
       "Name: index, dtype: datetime64[ns, America/Mexico_City]"
      ]
     },
     "execution_count": 25,
     "metadata": {},
     "output_type": "execute_result"
    }
   ],
   "source": [
    "droped_forecas_data = forecast_dc.drop([0,5,6])\n",
    "time = droped_forecas_data['index'].reset_index()\n",
    "time = time['index']\n",
    "time"
   ]
  },
  {
   "cell_type": "code",
   "execution_count": 26,
   "metadata": {},
   "outputs": [
    {
     "data": {
      "text/plain": [
       "0    10221.740241\n",
       "1    29297.304984\n",
       "2    36005.404384\n",
       "3      188.513243\n",
       "Name: p_mp, dtype: float64"
      ]
     },
     "execution_count": 26,
     "metadata": {},
     "output_type": "execute_result"
    }
   ],
   "source": [
    "power_forecasted = droped_forecas_data['p_mp']\n",
    "power_forecasted = power_forecasted.reset_index()\n",
    "power_forecasted = power_forecasted['p_mp']\n",
    "power_forecasted"
   ]
  },
  {
   "cell_type": "code",
   "execution_count": 27,
   "metadata": {
    "scrolled": false
   },
   "outputs": [],
   "source": [
    "pd.set_option('display.max_columns', None)\n",
    "pd.set_option('display.max_rows', None)\n",
    "dec9_cut = pd.read_csv('./dec9.csv')"
   ]
  },
  {
   "cell_type": "code",
   "execution_count": 28,
   "metadata": {
    "scrolled": false
   },
   "outputs": [
    {
     "data": {
      "text/html": [
       "<div>\n",
       "<style scoped>\n",
       "    .dataframe tbody tr th:only-of-type {\n",
       "        vertical-align: middle;\n",
       "    }\n",
       "\n",
       "    .dataframe tbody tr th {\n",
       "        vertical-align: top;\n",
       "    }\n",
       "\n",
       "    .dataframe thead th {\n",
       "        text-align: right;\n",
       "    }\n",
       "</style>\n",
       "<table border=\"1\" class=\"dataframe\">\n",
       "  <thead>\n",
       "    <tr style=\"text-align: right;\">\n",
       "      <th></th>\n",
       "      <th>SerialNumber</th>\n",
       "      <th>BoardId</th>\n",
       "      <th>DateTime</th>\n",
       "      <th>GId</th>\n",
       "      <th>Vac1</th>\n",
       "      <th>Vac2</th>\n",
       "      <th>Vac3</th>\n",
       "      <th>Iac1</th>\n",
       "      <th>Iac2</th>\n",
       "      <th>Iac3</th>\n",
       "      <th>Freq</th>\n",
       "      <th>Pac(W)</th>\n",
       "      <th>Qac</th>\n",
       "      <th>CosPhi</th>\n",
       "      <th>Vdc1</th>\n",
       "      <th>Vdc2</th>\n",
       "      <th>Idc1</th>\n",
       "      <th>Idc2</th>\n",
       "      <th>Pdc1</th>\n",
       "      <th>Pdc2</th>\n",
       "      <th>PacGrid</th>\n",
       "      <th>Energy(kWh)</th>\n",
       "    </tr>\n",
       "  </thead>\n",
       "  <tbody>\n",
       "    <tr>\n",
       "      <th>8</th>\n",
       "      <td>360019291468</td>\n",
       "      <td>03M172129A80</td>\n",
       "      <td>2020-12-09 09:00:00</td>\n",
       "      <td>group1/device6</td>\n",
       "      <td>276.08</td>\n",
       "      <td>280.37</td>\n",
       "      <td>282.88</td>\n",
       "      <td>19.35</td>\n",
       "      <td>19.33</td>\n",
       "      <td>19.19</td>\n",
       "      <td>60.00</td>\n",
       "      <td>16076.00</td>\n",
       "      <td>-0.12</td>\n",
       "      <td>0.11</td>\n",
       "      <td>737.36</td>\n",
       "      <td>695.05</td>\n",
       "      <td>12.10</td>\n",
       "      <td>10.83</td>\n",
       "      <td>8924.33</td>\n",
       "      <td>7530.33</td>\n",
       "      <td>0</td>\n",
       "      <td>12.59</td>\n",
       "    </tr>\n",
       "    <tr>\n",
       "      <th>20</th>\n",
       "      <td>360019291468</td>\n",
       "      <td>03M172129A80</td>\n",
       "      <td>2020-12-09 12:00:00</td>\n",
       "      <td>group1/device6</td>\n",
       "      <td>271.69</td>\n",
       "      <td>276.16</td>\n",
       "      <td>278.95</td>\n",
       "      <td>42.46</td>\n",
       "      <td>42.62</td>\n",
       "      <td>42.32</td>\n",
       "      <td>60.00</td>\n",
       "      <td>35039.23</td>\n",
       "      <td>-8.56</td>\n",
       "      <td>-0.16</td>\n",
       "      <td>654.58</td>\n",
       "      <td>600.95</td>\n",
       "      <td>28.92</td>\n",
       "      <td>28.41</td>\n",
       "      <td>18945.67</td>\n",
       "      <td>17083.89</td>\n",
       "      <td>0</td>\n",
       "      <td>97.44</td>\n",
       "    </tr>\n",
       "    <tr>\n",
       "      <th>32</th>\n",
       "      <td>360019291468</td>\n",
       "      <td>03M172129A80</td>\n",
       "      <td>2020-12-09 15:00:00</td>\n",
       "      <td>group1/device6</td>\n",
       "      <td>275.24</td>\n",
       "      <td>279.59</td>\n",
       "      <td>283.05</td>\n",
       "      <td>34.31</td>\n",
       "      <td>34.48</td>\n",
       "      <td>34.23</td>\n",
       "      <td>59.99</td>\n",
       "      <td>28693.23</td>\n",
       "      <td>4.89</td>\n",
       "      <td>0.36</td>\n",
       "      <td>662.23</td>\n",
       "      <td>620.28</td>\n",
       "      <td>23.09</td>\n",
       "      <td>22.85</td>\n",
       "      <td>15296.23</td>\n",
       "      <td>14186.77</td>\n",
       "      <td>0</td>\n",
       "      <td>198.39</td>\n",
       "    </tr>\n",
       "    <tr>\n",
       "      <th>44</th>\n",
       "      <td>360019291468</td>\n",
       "      <td>03M172129A80</td>\n",
       "      <td>2020-12-09 18:00:00</td>\n",
       "      <td>group1/device6</td>\n",
       "      <td>272.81</td>\n",
       "      <td>278.40</td>\n",
       "      <td>282.52</td>\n",
       "      <td>2.25</td>\n",
       "      <td>2.16</td>\n",
       "      <td>2.18</td>\n",
       "      <td>60.00</td>\n",
       "      <td>279.89</td>\n",
       "      <td>0.00</td>\n",
       "      <td>-0.27</td>\n",
       "      <td>618.19</td>\n",
       "      <td>588.09</td>\n",
       "      <td>0.23</td>\n",
       "      <td>0.24</td>\n",
       "      <td>141.11</td>\n",
       "      <td>138.22</td>\n",
       "      <td>0</td>\n",
       "      <td>235.63</td>\n",
       "    </tr>\n",
       "  </tbody>\n",
       "</table>\n",
       "</div>"
      ],
      "text/plain": [
       "    SerialNumber       BoardId             DateTime             GId    Vac1  \\\n",
       "8   360019291468  03M172129A80  2020-12-09 09:00:00  group1/device6  276.08   \n",
       "20  360019291468  03M172129A80  2020-12-09 12:00:00  group1/device6  271.69   \n",
       "32  360019291468  03M172129A80  2020-12-09 15:00:00  group1/device6  275.24   \n",
       "44  360019291468  03M172129A80  2020-12-09 18:00:00  group1/device6  272.81   \n",
       "\n",
       "      Vac2    Vac3   Iac1   Iac2   Iac3   Freq    Pac(W)   Qac  CosPhi  \\\n",
       "8   280.37  282.88  19.35  19.33  19.19  60.00  16076.00 -0.12    0.11   \n",
       "20  276.16  278.95  42.46  42.62  42.32  60.00  35039.23 -8.56   -0.16   \n",
       "32  279.59  283.05  34.31  34.48  34.23  59.99  28693.23  4.89    0.36   \n",
       "44  278.40  282.52   2.25   2.16   2.18  60.00    279.89  0.00   -0.27   \n",
       "\n",
       "      Vdc1    Vdc2   Idc1   Idc2      Pdc1      Pdc2  PacGrid  Energy(kWh)  \n",
       "8   737.36  695.05  12.10  10.83   8924.33   7530.33        0        12.59  \n",
       "20  654.58  600.95  28.92  28.41  18945.67  17083.89        0        97.44  \n",
       "32  662.23  620.28  23.09  22.85  15296.23  14186.77        0       198.39  \n",
       "44  618.19  588.09   0.23   0.24    141.11    138.22        0       235.63  "
      ]
     },
     "execution_count": 28,
     "metadata": {},
     "output_type": "execute_result"
    }
   ],
   "source": [
    "droped_data_cut = dec9_cut.drop([0,1,2,3,4,5,6,7,9,10,11,12,13,14,15,16,17,18,19,21,22,23,24,25,26,27,28,29,30,31,33,34,35,36,37,38,39,40,41,42,43,45,46])\n",
    "droped_data_cut"
   ]
  },
  {
   "cell_type": "code",
   "execution_count": 29,
   "metadata": {},
   "outputs": [
    {
     "data": {
      "text/plain": [
       "0    16076.00\n",
       "1    35039.23\n",
       "2    28693.23\n",
       "3      279.89\n",
       "Name: Pac(W), dtype: float64"
      ]
     },
     "execution_count": 29,
     "metadata": {},
     "output_type": "execute_result"
    }
   ],
   "source": [
    "power_real = droped_data_cut['Pac(W)']\n",
    "power_real = power_real.reset_index()\n",
    "power_real = power_real['Pac(W)']\n",
    "power_real"
   ]
  },
  {
   "cell_type": "code",
   "execution_count": 30,
   "metadata": {},
   "outputs": [
    {
     "data": {
      "text/html": [
       "<div>\n",
       "<style scoped>\n",
       "    .dataframe tbody tr th:only-of-type {\n",
       "        vertical-align: middle;\n",
       "    }\n",
       "\n",
       "    .dataframe tbody tr th {\n",
       "        vertical-align: top;\n",
       "    }\n",
       "\n",
       "    .dataframe thead th {\n",
       "        text-align: right;\n",
       "    }\n",
       "</style>\n",
       "<table border=\"1\" class=\"dataframe\">\n",
       "  <thead>\n",
       "    <tr style=\"text-align: right;\">\n",
       "      <th></th>\n",
       "      <th>time</th>\n",
       "      <th>real_data</th>\n",
       "      <th>forecasted_data</th>\n",
       "    </tr>\n",
       "  </thead>\n",
       "  <tbody>\n",
       "    <tr>\n",
       "      <th>0</th>\n",
       "      <td>2020-12-09 09:00:00-06:00</td>\n",
       "      <td>16076.00</td>\n",
       "      <td>10221.740241</td>\n",
       "    </tr>\n",
       "    <tr>\n",
       "      <th>1</th>\n",
       "      <td>2020-12-09 12:00:00-06:00</td>\n",
       "      <td>35039.23</td>\n",
       "      <td>29297.304984</td>\n",
       "    </tr>\n",
       "    <tr>\n",
       "      <th>2</th>\n",
       "      <td>2020-12-09 15:00:00-06:00</td>\n",
       "      <td>28693.23</td>\n",
       "      <td>36005.404384</td>\n",
       "    </tr>\n",
       "    <tr>\n",
       "      <th>3</th>\n",
       "      <td>2020-12-09 18:00:00-06:00</td>\n",
       "      <td>279.89</td>\n",
       "      <td>188.513243</td>\n",
       "    </tr>\n",
       "  </tbody>\n",
       "</table>\n",
       "</div>"
      ],
      "text/plain": [
       "                       time  real_data  forecasted_data\n",
       "0 2020-12-09 09:00:00-06:00   16076.00     10221.740241\n",
       "1 2020-12-09 12:00:00-06:00   35039.23     29297.304984\n",
       "2 2020-12-09 15:00:00-06:00   28693.23     36005.404384\n",
       "3 2020-12-09 18:00:00-06:00     279.89       188.513243"
      ]
     },
     "execution_count": 30,
     "metadata": {},
     "output_type": "execute_result"
    }
   ],
   "source": [
    "data_dict = {'time': time,'real_data': power_real, 'forecasted_data': power_forecasted}\n",
    "dframe = pd.DataFrame(data_dict)\n",
    "dframe"
   ]
  },
  {
   "cell_type": "code",
   "execution_count": 38,
   "metadata": {},
   "outputs": [
    {
     "data": {
      "text/html": [
       "<div>\n",
       "<style scoped>\n",
       "    .dataframe tbody tr th:only-of-type {\n",
       "        vertical-align: middle;\n",
       "    }\n",
       "\n",
       "    .dataframe tbody tr th {\n",
       "        vertical-align: top;\n",
       "    }\n",
       "\n",
       "    .dataframe thead th {\n",
       "        text-align: right;\n",
       "    }\n",
       "</style>\n",
       "<table border=\"1\" class=\"dataframe\">\n",
       "  <thead>\n",
       "    <tr style=\"text-align: right;\">\n",
       "      <th></th>\n",
       "      <th>real_data</th>\n",
       "      <th>forecasted_data</th>\n",
       "    </tr>\n",
       "    <tr>\n",
       "      <th>time</th>\n",
       "      <th></th>\n",
       "      <th></th>\n",
       "    </tr>\n",
       "  </thead>\n",
       "  <tbody>\n",
       "    <tr>\n",
       "      <th>2020-12-09 09:00:00-06:00</th>\n",
       "      <td>16076.00</td>\n",
       "      <td>10221.740241</td>\n",
       "    </tr>\n",
       "    <tr>\n",
       "      <th>2020-12-09 12:00:00-06:00</th>\n",
       "      <td>35039.23</td>\n",
       "      <td>29297.304984</td>\n",
       "    </tr>\n",
       "    <tr>\n",
       "      <th>2020-12-09 15:00:00-06:00</th>\n",
       "      <td>28693.23</td>\n",
       "      <td>36005.404384</td>\n",
       "    </tr>\n",
       "    <tr>\n",
       "      <th>2020-12-09 18:00:00-06:00</th>\n",
       "      <td>279.89</td>\n",
       "      <td>188.513243</td>\n",
       "    </tr>\n",
       "  </tbody>\n",
       "</table>\n",
       "</div>"
      ],
      "text/plain": [
       "                           real_data  forecasted_data\n",
       "time                                                 \n",
       "2020-12-09 09:00:00-06:00   16076.00     10221.740241\n",
       "2020-12-09 12:00:00-06:00   35039.23     29297.304984\n",
       "2020-12-09 15:00:00-06:00   28693.23     36005.404384\n",
       "2020-12-09 18:00:00-06:00     279.89       188.513243"
      ]
     },
     "execution_count": 38,
     "metadata": {},
     "output_type": "execute_result"
    }
   ],
   "source": [
    "comparision = dframe.set_index('time')\n",
    "comparision"
   ]
  },
  {
   "cell_type": "code",
   "execution_count": 39,
   "metadata": {
    "scrolled": true
   },
   "outputs": [
    {
     "data": {
      "image/png": "[encoded data removed]",
      "text/plain": [
       "<Figure size 432x288 with 1 Axes>"
      ]
     },
     "metadata": {
      "needs_background": "light"
     },
     "output_type": "display_data"
    }
   ],
   "source": [
    "comparision.plot()\n",
    "plt.ylabel('Power (W)')\n",
    "plt.title('Comparision Between Pvlib and PV Cutonala Pharm');"
   ]
  },
  {
   "cell_type": "markdown",
   "metadata": {},
   "source": [
    "### RMSE"
   ]
  },
  {
   "cell_type": "markdown",
   "metadata": {},
   "source": [
    "$  RMSE = \\sqrt{\\frac{1}{n}\\Sigma_{i=1}^{n}{\\Big(\\frac{d_i -f_i}{\\sigma_i}\\Big)^2}} $"
   ]
  },
  {
   "cell_type": "code",
   "execution_count": 44,
   "metadata": {},
   "outputs": [],
   "source": [
    "from sklearn.metrics import mean_squared_error, mean_squared_log_error, mean_absolute_error\n",
    "import numpy as np"
   ]
  },
  {
   "cell_type": "code",
   "execution_count": 48,
   "metadata": {
    "scrolled": true
   },
   "outputs": [
    {
     "data": {
      "text/plain": [
       "time\n",
       "2020-12-09 09:00:00-06:00    16076.00\n",
       "2020-12-09 12:00:00-06:00    35039.23\n",
       "2020-12-09 15:00:00-06:00    28693.23\n",
       "2020-12-09 18:00:00-06:00      279.89\n",
       "Name: real_data, dtype: float64"
      ]
     },
     "execution_count": 48,
     "metadata": {},
     "output_type": "execute_result"
    }
   ],
   "source": [
    "real = comparision['real_data']\n",
    "real"
   ]
  },
  {
   "cell_type": "code",
   "execution_count": 49,
   "metadata": {
    "scrolled": true
   },
   "outputs": [
    {
     "data": {
      "text/plain": [
       "time\n",
       "2020-12-09 09:00:00-06:00    10221.740241\n",
       "2020-12-09 12:00:00-06:00    29297.304984\n",
       "2020-12-09 15:00:00-06:00    36005.404384\n",
       "2020-12-09 18:00:00-06:00      188.513243\n",
       "Name: forecasted_data, dtype: float64"
      ]
     },
     "execution_count": 49,
     "metadata": {},
     "output_type": "execute_result"
    }
   ],
   "source": [
    "forecasted = comparision['forecasted_data']\n",
    "forecasted"
   ]
  },
  {
   "cell_type": "code",
   "execution_count": 54,
   "metadata": {},
   "outputs": [
    {
     "name": "stdout",
     "output_type": "stream",
     "text": [
      "MSE:30179576.039093204\n",
      "RMSE:5493.594091220538\n",
      "MSLE:0.11085234417004527\n",
      "RMSLE:0.33294495666708224\n",
      "MAE:4749.933979198888\n"
     ]
    }
   ],
   "source": [
    "print(\"MSE:\"+str(mean_squared_error(forecasted, real)))\n",
    "print(\"RMSE:\"+str(np.sqrt(mean_squared_error(forecasted, real))))\n",
    "print(\"MSLE:\"+str(mean_squared_log_error(forecasted, real)))\n",
    "print(\"RMSLE:\"+str(np.sqrt(mean_squared_log_error(forecasted, real))))\n",
    "print(\"MAE:\"+str(mean_absolute_error(forecasted, real)))"
   ]
  },
  {
   "cell_type": "code",
   "execution_count": 32,
   "metadata": {},
   "outputs": [
    {
     "data": {
      "text/plain": [
       "2020-12-09 06:00:00-06:00      -11.985000\n",
       "2020-12-09 09:00:00-06:00    10029.205032\n",
       "2020-12-09 12:00:00-06:00    28643.829378\n",
       "2020-12-09 15:00:00-06:00    35076.433846\n",
       "2020-12-09 18:00:00-06:00      115.232045\n",
       "2020-12-09 21:00:00-06:00      -11.985000\n",
       "2020-12-10 00:00:00-06:00      -11.985000\n",
       "dtype: float64"
      ]
     },
     "execution_count": 32,
     "metadata": {},
     "output_type": "execute_result"
    }
   ],
   "source": [
    "mc.ac"
   ]
  },
  {
   "cell_type": "code",
   "execution_count": 33,
   "metadata": {},
   "outputs": [
    {
     "data": {
      "text/html": [
       "<div>\n",
       "<style scoped>\n",
       "    .dataframe tbody tr th:only-of-type {\n",
       "        vertical-align: middle;\n",
       "    }\n",
       "\n",
       "    .dataframe tbody tr th {\n",
       "        vertical-align: top;\n",
       "    }\n",
       "\n",
       "    .dataframe thead th {\n",
       "        text-align: right;\n",
       "    }\n",
       "</style>\n",
       "<table border=\"1\" class=\"dataframe\">\n",
       "  <thead>\n",
       "    <tr style=\"text-align: right;\">\n",
       "      <th></th>\n",
       "      <th>airmass_relative</th>\n",
       "      <th>airmass_absolute</th>\n",
       "    </tr>\n",
       "  </thead>\n",
       "  <tbody>\n",
       "    <tr>\n",
       "      <th>2020-12-09 06:00:00-06:00</th>\n",
       "      <td>NaN</td>\n",
       "      <td>NaN</td>\n",
       "    </tr>\n",
       "    <tr>\n",
       "      <th>2020-12-09 09:00:00-06:00</th>\n",
       "      <td>2.905578</td>\n",
       "      <td>2.411658</td>\n",
       "    </tr>\n",
       "    <tr>\n",
       "      <th>2020-12-09 12:00:00-06:00</th>\n",
       "      <td>1.408879</td>\n",
       "      <td>1.169383</td>\n",
       "    </tr>\n",
       "    <tr>\n",
       "      <th>2020-12-09 15:00:00-06:00</th>\n",
       "      <td>1.715667</td>\n",
       "      <td>1.424020</td>\n",
       "    </tr>\n",
       "    <tr>\n",
       "      <th>2020-12-09 18:00:00-06:00</th>\n",
       "      <td>18.657825</td>\n",
       "      <td>15.486173</td>\n",
       "    </tr>\n",
       "    <tr>\n",
       "      <th>2020-12-09 21:00:00-06:00</th>\n",
       "      <td>NaN</td>\n",
       "      <td>NaN</td>\n",
       "    </tr>\n",
       "    <tr>\n",
       "      <th>2020-12-10 00:00:00-06:00</th>\n",
       "      <td>NaN</td>\n",
       "      <td>NaN</td>\n",
       "    </tr>\n",
       "  </tbody>\n",
       "</table>\n",
       "</div>"
      ],
      "text/plain": [
       "                           airmass_relative  airmass_absolute\n",
       "2020-12-09 06:00:00-06:00               NaN               NaN\n",
       "2020-12-09 09:00:00-06:00          2.905578          2.411658\n",
       "2020-12-09 12:00:00-06:00          1.408879          1.169383\n",
       "2020-12-09 15:00:00-06:00          1.715667          1.424020\n",
       "2020-12-09 18:00:00-06:00         18.657825         15.486173\n",
       "2020-12-09 21:00:00-06:00               NaN               NaN\n",
       "2020-12-10 00:00:00-06:00               NaN               NaN"
      ]
     },
     "execution_count": 33,
     "metadata": {},
     "output_type": "execute_result"
    }
   ],
   "source": [
    "mc.airmass"
   ]
  },
  {
   "cell_type": "code",
   "execution_count": 34,
   "metadata": {},
   "outputs": [
    {
     "data": {
      "text/plain": [
       "<bound method ModelChain.cec of ModelChain: \n",
       "  name: Huerto de Cutonalá\n",
       "  orientation_strategy: None\n",
       "  clearsky_model: ineichen\n",
       "  transposition_model: haydavies\n",
       "  solar_position_method: nrel_numpy\n",
       "  airmass_model: kastenyoung1989\n",
       "  dc_model: cec\n",
       "  ac_model: snlinverter\n",
       "  aoi_model: no_aoi_loss\n",
       "  spectral_model: no_spectral_loss\n",
       "  temperature_model: sapm_temp\n",
       "  losses_model: no_extra_losses>"
      ]
     },
     "execution_count": 34,
     "metadata": {},
     "output_type": "execute_result"
    }
   ],
   "source": [
    "mc.cec"
   ]
  },
  {
   "cell_type": "code",
   "execution_count": 35,
   "metadata": {},
   "outputs": [
    {
     "data": {
      "text/plain": [
       "2020-12-09 06:00:00-06:00    14.222504\n",
       "2020-12-09 09:00:00-06:00    19.624404\n",
       "2020-12-09 12:00:00-06:00    30.698384\n",
       "2020-12-09 15:00:00-06:00    43.883689\n",
       "2020-12-09 18:00:00-06:00    33.119355\n",
       "2020-12-09 21:00:00-06:00    32.349854\n",
       "2020-12-10 00:00:00-06:00    18.704193\n",
       "dtype: float64"
      ]
     },
     "execution_count": 35,
     "metadata": {},
     "output_type": "execute_result"
    }
   ],
   "source": [
    "mc.cell_temperature"
   ]
  },
  {
   "cell_type": "code",
   "execution_count": 36,
   "metadata": {},
   "outputs": [
    {
     "data": {
      "text/html": [
       "<div>\n",
       "<style scoped>\n",
       "    .dataframe tbody tr th:only-of-type {\n",
       "        vertical-align: middle;\n",
       "    }\n",
       "\n",
       "    .dataframe tbody tr th {\n",
       "        vertical-align: top;\n",
       "    }\n",
       "\n",
       "    .dataframe thead th {\n",
       "        text-align: right;\n",
       "    }\n",
       "</style>\n",
       "<table border=\"1\" class=\"dataframe\">\n",
       "  <thead>\n",
       "    <tr style=\"text-align: right;\">\n",
       "      <th></th>\n",
       "      <th>apparent_zenith</th>\n",
       "      <th>zenith</th>\n",
       "      <th>apparent_elevation</th>\n",
       "      <th>elevation</th>\n",
       "      <th>azimuth</th>\n",
       "      <th>equation_of_time</th>\n",
       "    </tr>\n",
       "  </thead>\n",
       "  <tbody>\n",
       "    <tr>\n",
       "      <th>2020-12-09 06:00:00-06:00</th>\n",
       "      <td>107.840226</td>\n",
       "      <td>107.840226</td>\n",
       "      <td>-17.840226</td>\n",
       "      <td>-17.840226</td>\n",
       "      <td>108.396286</td>\n",
       "      <td>7.483978</td>\n",
       "    </tr>\n",
       "    <tr>\n",
       "      <th>2020-12-09 09:00:00-06:00</th>\n",
       "      <td>70.017740</td>\n",
       "      <td>70.055489</td>\n",
       "      <td>19.982260</td>\n",
       "      <td>19.944511</td>\n",
       "      <td>125.320525</td>\n",
       "      <td>7.427503</td>\n",
       "    </tr>\n",
       "    <tr>\n",
       "      <th>2020-12-09 12:00:00-06:00</th>\n",
       "      <td>44.848189</td>\n",
       "      <td>44.862079</td>\n",
       "      <td>45.151811</td>\n",
       "      <td>45.137921</td>\n",
       "      <td>165.070670</td>\n",
       "      <td>7.370914</td>\n",
       "    </tr>\n",
       "    <tr>\n",
       "      <th>2020-12-09 15:00:00-06:00</th>\n",
       "      <td>54.427509</td>\n",
       "      <td>54.446526</td>\n",
       "      <td>35.572491</td>\n",
       "      <td>35.553474</td>\n",
       "      <td>218.803466</td>\n",
       "      <td>7.314210</td>\n",
       "    </tr>\n",
       "    <tr>\n",
       "      <th>2020-12-09 18:00:00-06:00</th>\n",
       "      <td>87.849065</td>\n",
       "      <td>88.069893</td>\n",
       "      <td>2.150935</td>\n",
       "      <td>1.930107</td>\n",
       "      <td>244.597123</td>\n",
       "      <td>7.257393</td>\n",
       "    </tr>\n",
       "    <tr>\n",
       "      <th>2020-12-09 21:00:00-06:00</th>\n",
       "      <td>127.865734</td>\n",
       "      <td>127.865734</td>\n",
       "      <td>-37.865734</td>\n",
       "      <td>-37.865734</td>\n",
       "      <td>256.368646</td>\n",
       "      <td>7.200464</td>\n",
       "    </tr>\n",
       "    <tr>\n",
       "      <th>2020-12-10 00:00:00-06:00</th>\n",
       "      <td>169.117710</td>\n",
       "      <td>169.117710</td>\n",
       "      <td>-79.117710</td>\n",
       "      <td>-79.117710</td>\n",
       "      <td>255.230878</td>\n",
       "      <td>7.143424</td>\n",
       "    </tr>\n",
       "  </tbody>\n",
       "</table>\n",
       "</div>"
      ],
      "text/plain": [
       "                           apparent_zenith      zenith  apparent_elevation  \\\n",
       "2020-12-09 06:00:00-06:00       107.840226  107.840226          -17.840226   \n",
       "2020-12-09 09:00:00-06:00        70.017740   70.055489           19.982260   \n",
       "2020-12-09 12:00:00-06:00        44.848189   44.862079           45.151811   \n",
       "2020-12-09 15:00:00-06:00        54.427509   54.446526           35.572491   \n",
       "2020-12-09 18:00:00-06:00        87.849065   88.069893            2.150935   \n",
       "2020-12-09 21:00:00-06:00       127.865734  127.865734          -37.865734   \n",
       "2020-12-10 00:00:00-06:00       169.117710  169.117710          -79.117710   \n",
       "\n",
       "                           elevation     azimuth  equation_of_time  \n",
       "2020-12-09 06:00:00-06:00 -17.840226  108.396286          7.483978  \n",
       "2020-12-09 09:00:00-06:00  19.944511  125.320525          7.427503  \n",
       "2020-12-09 12:00:00-06:00  45.137921  165.070670          7.370914  \n",
       "2020-12-09 15:00:00-06:00  35.553474  218.803466          7.314210  \n",
       "2020-12-09 18:00:00-06:00   1.930107  244.597123          7.257393  \n",
       "2020-12-09 21:00:00-06:00 -37.865734  256.368646          7.200464  \n",
       "2020-12-10 00:00:00-06:00 -79.117710  255.230878          7.143424  "
      ]
     },
     "execution_count": 36,
     "metadata": {},
     "output_type": "execute_result"
    }
   ],
   "source": [
    "mc.solar_position"
   ]
  },
  {
   "cell_type": "code",
   "execution_count": 37,
   "metadata": {},
   "outputs": [
    {
     "data": {
      "text/plain": [
       "<bound method ModelChain.snlinverter of ModelChain: \n",
       "  name: Huerto de Cutonalá\n",
       "  orientation_strategy: None\n",
       "  clearsky_model: ineichen\n",
       "  transposition_model: haydavies\n",
       "  solar_position_method: nrel_numpy\n",
       "  airmass_model: kastenyoung1989\n",
       "  dc_model: cec\n",
       "  ac_model: snlinverter\n",
       "  aoi_model: no_aoi_loss\n",
       "  spectral_model: no_spectral_loss\n",
       "  temperature_model: sapm_temp\n",
       "  losses_model: no_extra_losses>"
      ]
     },
     "execution_count": 37,
     "metadata": {},
     "output_type": "execute_result"
    }
   ],
   "source": [
    "mc.ac_model"
   ]
  },
  {
   "cell_type": "code",
   "execution_count": null,
   "metadata": {},
   "outputs": [],
   "source": []
  }
 ],
 "metadata": {
  "kernelspec": {
   "display_name": "Python 3",
   "language": "python",
   "name": "python3"
  },
  "language_info": {
   "codemirror_mode": {
    "name": "ipython",
    "version": 3
   },
   "file_extension": ".py",
   "mimetype": "text/x-python",
   "name": "python",
   "nbconvert_exporter": "python",
   "pygments_lexer": "ipython3",
   "version": "3.8.3"
  }
 },
 "nbformat": 4,
 "nbformat_minor": 4
}
