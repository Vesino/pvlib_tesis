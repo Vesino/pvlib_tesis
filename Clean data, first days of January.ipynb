{
 "cells": [
  {
   "cell_type": "markdown",
   "id": "83329460",
   "metadata": {},
   "source": [
    "### Clean data for NAM y RAP model for the first days"
   ]
  },
  {
   "cell_type": "code",
   "execution_count": 24,
   "id": "59e0ac2b",
   "metadata": {},
   "outputs": [],
   "source": [
    "import pandas as pd\n",
    "import matplotlib.pyplot as plt\n",
    "from sklearn.metrics import mean_squared_error, mean_squared_log_error, mean_absolute_error\n",
    "import numpy as np"
   ]
  },
  {
   "cell_type": "code",
   "execution_count": 25,
   "id": "8ce211b6",
   "metadata": {},
   "outputs": [],
   "source": [
    "index_to_drop = [0,2,3,5,6,8,9]"
   ]
  },
  {
   "cell_type": "code",
   "execution_count": 284,
   "id": "ea4bbbbd",
   "metadata": {},
   "outputs": [],
   "source": [
    "study_name = '17-Enero-2021-RAP'\n",
    "file_ = f'comparision data/Comparación Enero/{study_name}'"
   ]
  },
  {
   "cell_type": "code",
   "execution_count": 285,
   "id": "8d1058eb",
   "metadata": {
    "scrolled": true
   },
   "outputs": [
    {
     "data": {
      "text/html": [
       "<div>\n",
       "<style scoped>\n",
       "    .dataframe tbody tr th:only-of-type {\n",
       "        vertical-align: middle;\n",
       "    }\n",
       "\n",
       "    .dataframe tbody tr th {\n",
       "        vertical-align: top;\n",
       "    }\n",
       "\n",
       "    .dataframe thead th {\n",
       "        text-align: right;\n",
       "    }\n",
       "</style>\n",
       "<table border=\"1\" class=\"dataframe\">\n",
       "  <thead>\n",
       "    <tr style=\"text-align: right;\">\n",
       "      <th></th>\n",
       "      <th>real_data</th>\n",
       "      <th>forecasted_data</th>\n",
       "    </tr>\n",
       "  </thead>\n",
       "  <tbody>\n",
       "    <tr>\n",
       "      <th>0</th>\n",
       "      <td>2885.11</td>\n",
       "      <td>503.711295</td>\n",
       "    </tr>\n",
       "    <tr>\n",
       "      <th>1</th>\n",
       "      <td>12226.00</td>\n",
       "      <td>4117.220474</td>\n",
       "    </tr>\n",
       "    <tr>\n",
       "      <th>2</th>\n",
       "      <td>10057.67</td>\n",
       "      <td>7856.959384</td>\n",
       "    </tr>\n",
       "    <tr>\n",
       "      <th>3</th>\n",
       "      <td>29200.33</td>\n",
       "      <td>10927.826560</td>\n",
       "    </tr>\n",
       "    <tr>\n",
       "      <th>4</th>\n",
       "      <td>32800.78</td>\n",
       "      <td>12879.551432</td>\n",
       "    </tr>\n",
       "    <tr>\n",
       "      <th>5</th>\n",
       "      <td>34168.33</td>\n",
       "      <td>13624.181573</td>\n",
       "    </tr>\n",
       "    <tr>\n",
       "      <th>6</th>\n",
       "      <td>33048.88</td>\n",
       "      <td>13056.939134</td>\n",
       "    </tr>\n",
       "    <tr>\n",
       "      <th>7</th>\n",
       "      <td>27696.11</td>\n",
       "      <td>17729.375509</td>\n",
       "    </tr>\n",
       "    <tr>\n",
       "      <th>8</th>\n",
       "      <td>20801.34</td>\n",
       "      <td>29019.024105</td>\n",
       "    </tr>\n",
       "    <tr>\n",
       "      <th>9</th>\n",
       "      <td>11574.11</td>\n",
       "      <td>18395.982132</td>\n",
       "    </tr>\n",
       "    <tr>\n",
       "      <th>10</th>\n",
       "      <td>637.45</td>\n",
       "      <td>2987.798941</td>\n",
       "    </tr>\n",
       "  </tbody>\n",
       "</table>\n",
       "</div>"
      ],
      "text/plain": [
       "    real_data  forecasted_data\n",
       "0     2885.11       503.711295\n",
       "1    12226.00      4117.220474\n",
       "2    10057.67      7856.959384\n",
       "3    29200.33     10927.826560\n",
       "4    32800.78     12879.551432\n",
       "5    34168.33     13624.181573\n",
       "6    33048.88     13056.939134\n",
       "7    27696.11     17729.375509\n",
       "8    20801.34     29019.024105\n",
       "9    11574.11     18395.982132\n",
       "10     637.45      2987.798941"
      ]
     },
     "execution_count": 285,
     "metadata": {},
     "output_type": "execute_result"
    }
   ],
   "source": [
    "# NAM model only retreives 10 records per day from 8:00 AM to 18:00 PM so, \n",
    "# we clean the data to be consistent with GFS model\n",
    "\n",
    "df = pd.read_csv(file_)\n",
    "df"
   ]
  },
  {
   "cell_type": "code",
   "execution_count": 286,
   "id": "8ccd0faa",
   "metadata": {},
   "outputs": [
    {
     "data": {
      "text/html": [
       "<div>\n",
       "<style scoped>\n",
       "    .dataframe tbody tr th:only-of-type {\n",
       "        vertical-align: middle;\n",
       "    }\n",
       "\n",
       "    .dataframe tbody tr th {\n",
       "        vertical-align: top;\n",
       "    }\n",
       "\n",
       "    .dataframe thead th {\n",
       "        text-align: right;\n",
       "    }\n",
       "</style>\n",
       "<table border=\"1\" class=\"dataframe\">\n",
       "  <thead>\n",
       "    <tr style=\"text-align: right;\">\n",
       "      <th></th>\n",
       "      <th>real_data</th>\n",
       "      <th>forecasted_data</th>\n",
       "    </tr>\n",
       "  </thead>\n",
       "  <tbody>\n",
       "    <tr>\n",
       "      <th>1</th>\n",
       "      <td>12226.00</td>\n",
       "      <td>4117.220474</td>\n",
       "    </tr>\n",
       "    <tr>\n",
       "      <th>4</th>\n",
       "      <td>32800.78</td>\n",
       "      <td>12879.551432</td>\n",
       "    </tr>\n",
       "    <tr>\n",
       "      <th>7</th>\n",
       "      <td>27696.11</td>\n",
       "      <td>17729.375509</td>\n",
       "    </tr>\n",
       "    <tr>\n",
       "      <th>10</th>\n",
       "      <td>637.45</td>\n",
       "      <td>2987.798941</td>\n",
       "    </tr>\n",
       "  </tbody>\n",
       "</table>\n",
       "</div>"
      ],
      "text/plain": [
       "    real_data  forecasted_data\n",
       "1    12226.00      4117.220474\n",
       "4    32800.78     12879.551432\n",
       "7    27696.11     17729.375509\n",
       "10     637.45      2987.798941"
      ]
     },
     "execution_count": 286,
     "metadata": {},
     "output_type": "execute_result"
    }
   ],
   "source": [
    "consistent_data = df.drop(index_to_drop)\n",
    "consistent_data"
   ]
  },
  {
   "cell_type": "code",
   "execution_count": 287,
   "id": "f4870759",
   "metadata": {},
   "outputs": [],
   "source": [
    "consistent_data.to_csv(f'comparision data/Comparación Enero/{study_name}', index=False)"
   ]
  },
  {
   "cell_type": "code",
   "execution_count": 288,
   "id": "e15df7c7",
   "metadata": {},
   "outputs": [],
   "source": [
    "real = consistent_data['real_data']"
   ]
  },
  {
   "cell_type": "code",
   "execution_count": 289,
   "id": "8874060f",
   "metadata": {},
   "outputs": [],
   "source": [
    "forecasted = consistent_data['forecasted_data']"
   ]
  },
  {
   "cell_type": "code",
   "execution_count": 290,
   "id": "ec699e82",
   "metadata": {},
   "outputs": [],
   "source": [
    "MSE = mean_squared_error(forecasted, real)\n",
    "RMSE = np.sqrt(mean_squared_error(forecasted, real))\n",
    "MSLE = mean_squared_log_error(forecasted, real)\n",
    "RMSLE = np.sqrt(mean_squared_log_error(forecasted, real))\n",
    "MAE = mean_absolute_error(forecasted, real)"
   ]
  },
  {
   "cell_type": "code",
   "execution_count": 291,
   "id": "869c59d1",
   "metadata": {},
   "outputs": [
    {
     "data": {
      "text/html": [
       "<div>\n",
       "<style scoped>\n",
       "    .dataframe tbody tr th:only-of-type {\n",
       "        vertical-align: middle;\n",
       "    }\n",
       "\n",
       "    .dataframe tbody tr th {\n",
       "        vertical-align: top;\n",
       "    }\n",
       "\n",
       "    .dataframe thead th {\n",
       "        text-align: right;\n",
       "    }\n",
       "</style>\n",
       "<table border=\"1\" class=\"dataframe\">\n",
       "  <thead>\n",
       "    <tr style=\"text-align: right;\">\n",
       "      <th></th>\n",
       "      <th>MSE</th>\n",
       "      <th>RMSE</th>\n",
       "      <th>MSLE</th>\n",
       "      <th>RMSLE</th>\n",
       "      <th>MAE</th>\n",
       "    </tr>\n",
       "  </thead>\n",
       "  <tbody>\n",
       "    <tr>\n",
       "      <th>0</th>\n",
       "      <td>141866897.4</td>\n",
       "      <td>11910.79</td>\n",
       "      <td>1.16</td>\n",
       "      <td>1.08</td>\n",
       "      <td>10086.77</td>\n",
       "    </tr>\n",
       "  </tbody>\n",
       "</table>\n",
       "</div>"
      ],
      "text/plain": [
       "           MSE      RMSE  MSLE  RMSLE       MAE\n",
       "0  141866897.4  11910.79  1.16   1.08  10086.77"
      ]
     },
     "execution_count": 291,
     "metadata": {},
     "output_type": "execute_result"
    }
   ],
   "source": [
    "metrics_obj = {'MSE': [MSE], 'RMSE':[RMSE], 'MSLE':[MSLE], 'RMSLE':[RMSLE], 'MAE':[MAE]}\n",
    "metrics_df = pd.DataFrame(metrics_obj)\n",
    "metrics_df.round(2)"
   ]
  },
  {
   "cell_type": "code",
   "execution_count": 292,
   "id": "6601cb03",
   "metadata": {},
   "outputs": [],
   "source": [
    "metrics_df.to_csv(f'comparision data/Comparación Enero/{study_name}-Metrics', index=False)"
   ]
  },
  {
   "cell_type": "code",
   "execution_count": null,
   "id": "7df27449",
   "metadata": {},
   "outputs": [],
   "source": []
  }
 ],
 "metadata": {
  "kernelspec": {
   "display_name": "Python 3 (ipykernel)",
   "language": "python",
   "name": "python3"
  },
  "language_info": {
   "codemirror_mode": {
    "name": "ipython",
    "version": 3
   },
   "file_extension": ".py",
   "mimetype": "text/x-python",
   "name": "python",
   "nbconvert_exporter": "python",
   "pygments_lexer": "ipython3",
   "version": "3.9.7"
  }
 },
 "nbformat": 4,
 "nbformat_minor": 5
}
