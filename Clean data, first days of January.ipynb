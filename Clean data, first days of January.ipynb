{
 "cells": [
  {
   "cell_type": "markdown",
   "id": "2f6572bf",
   "metadata": {},
   "source": [
    "### Clean data for NAM y RAP model for the first days"
   ]
  },
  {
   "cell_type": "code",
   "execution_count": 24,
   "id": "38ce4572",
   "metadata": {},
   "outputs": [],
   "source": [
    "import pandas as pd\n",
    "import matplotlib.pyplot as plt\n",
    "from sklearn.metrics import mean_squared_error, mean_squared_log_error, mean_absolute_error\n",
    "import numpy as np"
   ]
  },
  {
   "cell_type": "code",
   "execution_count": 25,
   "id": "fbb96daa",
   "metadata": {},
   "outputs": [],
   "source": [
    "index_to_drop = [0,2,3,5,6,8,9]"
   ]
  },
  {
   "cell_type": "code",
   "execution_count": 26,
   "id": "ee7b49b7",
   "metadata": {},
   "outputs": [],
   "source": [
    "study_name = '04-Enero-2021-NAM'\n",
    "jan_04_NAM_file = f'comparision data/Comparación Enero/{study_name}'"
   ]
  },
  {
   "cell_type": "code",
   "execution_count": 27,
   "id": "f4924c57",
   "metadata": {
    "scrolled": true
   },
   "outputs": [
    {
     "data": {
      "text/html": [
       "<div>\n",
       "<style scoped>\n",
       "    .dataframe tbody tr th:only-of-type {\n",
       "        vertical-align: middle;\n",
       "    }\n",
       "\n",
       "    .dataframe tbody tr th {\n",
       "        vertical-align: top;\n",
       "    }\n",
       "\n",
       "    .dataframe thead th {\n",
       "        text-align: right;\n",
       "    }\n",
       "</style>\n",
       "<table border=\"1\" class=\"dataframe\">\n",
       "  <thead>\n",
       "    <tr style=\"text-align: right;\">\n",
       "      <th></th>\n",
       "      <th>real_data</th>\n",
       "      <th>forecasted_data</th>\n",
       "    </tr>\n",
       "  </thead>\n",
       "  <tbody>\n",
       "    <tr>\n",
       "      <th>0</th>\n",
       "      <td>1862.33</td>\n",
       "      <td>2209.472598</td>\n",
       "    </tr>\n",
       "    <tr>\n",
       "      <th>1</th>\n",
       "      <td>15694.55</td>\n",
       "      <td>19482.849001</td>\n",
       "    </tr>\n",
       "    <tr>\n",
       "      <th>2</th>\n",
       "      <td>25180.89</td>\n",
       "      <td>31966.394019</td>\n",
       "    </tr>\n",
       "    <tr>\n",
       "      <th>3</th>\n",
       "      <td>31500.77</td>\n",
       "      <td>40289.373045</td>\n",
       "    </tr>\n",
       "    <tr>\n",
       "      <th>4</th>\n",
       "      <td>34858.23</td>\n",
       "      <td>45301.797581</td>\n",
       "    </tr>\n",
       "    <tr>\n",
       "      <th>5</th>\n",
       "      <td>34439.78</td>\n",
       "      <td>46901.165142</td>\n",
       "    </tr>\n",
       "    <tr>\n",
       "      <th>6</th>\n",
       "      <td>31555.45</td>\n",
       "      <td>44779.017095</td>\n",
       "    </tr>\n",
       "    <tr>\n",
       "      <th>7</th>\n",
       "      <td>27938.45</td>\n",
       "      <td>38468.596208</td>\n",
       "    </tr>\n",
       "    <tr>\n",
       "      <th>8</th>\n",
       "      <td>21174.89</td>\n",
       "      <td>29288.921374</td>\n",
       "    </tr>\n",
       "    <tr>\n",
       "      <th>9</th>\n",
       "      <td>6826.89</td>\n",
       "      <td>16902.794493</td>\n",
       "    </tr>\n",
       "    <tr>\n",
       "      <th>10</th>\n",
       "      <td>733.11</td>\n",
       "      <td>1146.196858</td>\n",
       "    </tr>\n",
       "  </tbody>\n",
       "</table>\n",
       "</div>"
      ],
      "text/plain": [
       "    real_data  forecasted_data\n",
       "0     1862.33      2209.472598\n",
       "1    15694.55     19482.849001\n",
       "2    25180.89     31966.394019\n",
       "3    31500.77     40289.373045\n",
       "4    34858.23     45301.797581\n",
       "5    34439.78     46901.165142\n",
       "6    31555.45     44779.017095\n",
       "7    27938.45     38468.596208\n",
       "8    21174.89     29288.921374\n",
       "9     6826.89     16902.794493\n",
       "10     733.11      1146.196858"
      ]
     },
     "execution_count": 27,
     "metadata": {},
     "output_type": "execute_result"
    }
   ],
   "source": [
    "# NAM model only retreives 10 records per day from 8:00 AM to 18:00 PM so, \n",
    "# we clean the data to be consistent with GFS model\n",
    "\n",
    "df = pd.read_csv(jan_04_NAM_file)\n",
    "df"
   ]
  },
  {
   "cell_type": "code",
   "execution_count": 28,
   "id": "0c495345",
   "metadata": {},
   "outputs": [
    {
     "data": {
      "text/html": [
       "<div>\n",
       "<style scoped>\n",
       "    .dataframe tbody tr th:only-of-type {\n",
       "        vertical-align: middle;\n",
       "    }\n",
       "\n",
       "    .dataframe tbody tr th {\n",
       "        vertical-align: top;\n",
       "    }\n",
       "\n",
       "    .dataframe thead th {\n",
       "        text-align: right;\n",
       "    }\n",
       "</style>\n",
       "<table border=\"1\" class=\"dataframe\">\n",
       "  <thead>\n",
       "    <tr style=\"text-align: right;\">\n",
       "      <th></th>\n",
       "      <th>real_data</th>\n",
       "      <th>forecasted_data</th>\n",
       "    </tr>\n",
       "  </thead>\n",
       "  <tbody>\n",
       "    <tr>\n",
       "      <th>1</th>\n",
       "      <td>15694.55</td>\n",
       "      <td>19482.849001</td>\n",
       "    </tr>\n",
       "    <tr>\n",
       "      <th>4</th>\n",
       "      <td>34858.23</td>\n",
       "      <td>45301.797581</td>\n",
       "    </tr>\n",
       "    <tr>\n",
       "      <th>7</th>\n",
       "      <td>27938.45</td>\n",
       "      <td>38468.596208</td>\n",
       "    </tr>\n",
       "    <tr>\n",
       "      <th>10</th>\n",
       "      <td>733.11</td>\n",
       "      <td>1146.196858</td>\n",
       "    </tr>\n",
       "  </tbody>\n",
       "</table>\n",
       "</div>"
      ],
      "text/plain": [
       "    real_data  forecasted_data\n",
       "1    15694.55     19482.849001\n",
       "4    34858.23     45301.797581\n",
       "7    27938.45     38468.596208\n",
       "10     733.11      1146.196858"
      ]
     },
     "execution_count": 28,
     "metadata": {},
     "output_type": "execute_result"
    }
   ],
   "source": [
    "consistent_data = df.drop(index_to_drop)\n",
    "consistent_data"
   ]
  },
  {
   "cell_type": "code",
   "execution_count": 34,
   "id": "78e91681",
   "metadata": {},
   "outputs": [
    {
     "data": {
      "text/html": [
       "<div>\n",
       "<style scoped>\n",
       "    .dataframe tbody tr th:only-of-type {\n",
       "        vertical-align: middle;\n",
       "    }\n",
       "\n",
       "    .dataframe tbody tr th {\n",
       "        vertical-align: top;\n",
       "    }\n",
       "\n",
       "    .dataframe thead th {\n",
       "        text-align: right;\n",
       "    }\n",
       "</style>\n",
       "<table border=\"1\" class=\"dataframe\">\n",
       "  <thead>\n",
       "    <tr style=\"text-align: right;\">\n",
       "      <th></th>\n",
       "      <th>real_data</th>\n",
       "      <th>forecasted_data</th>\n",
       "    </tr>\n",
       "  </thead>\n",
       "  <tbody>\n",
       "    <tr>\n",
       "      <th>1</th>\n",
       "      <td>15694.55</td>\n",
       "      <td>19482.849001</td>\n",
       "    </tr>\n",
       "    <tr>\n",
       "      <th>4</th>\n",
       "      <td>34858.23</td>\n",
       "      <td>45301.797581</td>\n",
       "    </tr>\n",
       "    <tr>\n",
       "      <th>7</th>\n",
       "      <td>27938.45</td>\n",
       "      <td>38468.596208</td>\n",
       "    </tr>\n",
       "    <tr>\n",
       "      <th>10</th>\n",
       "      <td>733.11</td>\n",
       "      <td>1146.196858</td>\n",
       "    </tr>\n",
       "  </tbody>\n",
       "</table>\n",
       "</div>"
      ],
      "text/plain": [
       "    real_data  forecasted_data\n",
       "1    15694.55     19482.849001\n",
       "4    34858.23     45301.797581\n",
       "7    27938.45     38468.596208\n",
       "10     733.11      1146.196858"
      ]
     },
     "execution_count": 34,
     "metadata": {},
     "output_type": "execute_result"
    }
   ],
   "source": [
    "comparision = consistent_data.to_csv(f'comparision data/Comparación Enero/{study_name}', index=False)\n",
    "consistent_data"
   ]
  },
  {
   "cell_type": "code",
   "execution_count": 35,
   "id": "b8c62a38",
   "metadata": {},
   "outputs": [],
   "source": [
    "real = consistent_data['real_data']"
   ]
  },
  {
   "cell_type": "code",
   "execution_count": 36,
   "id": "88bc110d",
   "metadata": {},
   "outputs": [],
   "source": [
    "forecasted = consistent_data['forecasted_data']"
   ]
  },
  {
   "cell_type": "code",
   "execution_count": 37,
   "id": "49e4bfd7",
   "metadata": {},
   "outputs": [],
   "source": [
    "MSE = mean_squared_error(forecasted, real)\n",
    "RMSE = np.sqrt(mean_squared_error(forecasted, real))\n",
    "MSLE = mean_squared_log_error(forecasted, real)\n",
    "RMSLE = np.sqrt(mean_squared_log_error(forecasted, real))\n",
    "MAE = mean_absolute_error(forecasted, real)"
   ]
  },
  {
   "cell_type": "code",
   "execution_count": 41,
   "id": "f560380b",
   "metadata": {},
   "outputs": [
    {
     "data": {
      "text/html": [
       "<div>\n",
       "<style scoped>\n",
       "    .dataframe tbody tr th:only-of-type {\n",
       "        vertical-align: middle;\n",
       "    }\n",
       "\n",
       "    .dataframe tbody tr th {\n",
       "        vertical-align: top;\n",
       "    }\n",
       "\n",
       "    .dataframe thead th {\n",
       "        text-align: right;\n",
       "    }\n",
       "</style>\n",
       "<table border=\"1\" class=\"dataframe\">\n",
       "  <thead>\n",
       "    <tr style=\"text-align: right;\">\n",
       "      <th></th>\n",
       "      <th>MSE</th>\n",
       "      <th>RMSE</th>\n",
       "      <th>MSLE</th>\n",
       "      <th>RMSLE</th>\n",
       "      <th>MAE</th>\n",
       "    </tr>\n",
       "  </thead>\n",
       "  <tbody>\n",
       "    <tr>\n",
       "      <th>0</th>\n",
       "      <td>58618483.26</td>\n",
       "      <td>7656.27</td>\n",
       "      <td>0.1</td>\n",
       "      <td>0.32</td>\n",
       "      <td>6293.77</td>\n",
       "    </tr>\n",
       "  </tbody>\n",
       "</table>\n",
       "</div>"
      ],
      "text/plain": [
       "           MSE     RMSE  MSLE  RMSLE      MAE\n",
       "0  58618483.26  7656.27   0.1   0.32  6293.77"
      ]
     },
     "execution_count": 41,
     "metadata": {},
     "output_type": "execute_result"
    }
   ],
   "source": [
    "metrics_obj = {'MSE': [MSE], 'RMSE':[RMSE], 'MSLE':[MSLE], 'RMSLE':[RMSLE], 'MAE':[MAE]}\n",
    "metrics_df = pd.DataFrame(metrics_obj)\n",
    "metrics_df.round(2)"
   ]
  },
  {
   "cell_type": "code",
   "execution_count": 43,
   "id": "125b0267",
   "metadata": {},
   "outputs": [],
   "source": [
    "metrics_df.to_csv(f'comparision data/Comparación Enero/{study_name}-Metrics', index=False)"
   ]
  },
  {
   "cell_type": "code",
   "execution_count": null,
   "id": "34d0b732",
   "metadata": {},
   "outputs": [],
   "source": []
  }
 ],
 "metadata": {
  "kernelspec": {
   "display_name": "Python 3 (ipykernel)",
   "language": "python",
   "name": "python3"
  },
  "language_info": {
   "codemirror_mode": {
    "name": "ipython",
    "version": 3
   },
   "file_extension": ".py",
   "mimetype": "text/x-python",
   "name": "python",
   "nbconvert_exporter": "python",
   "pygments_lexer": "ipython3",
   "version": "3.9.7"
  }
 },
 "nbformat": 4,
 "nbformat_minor": 5
}
