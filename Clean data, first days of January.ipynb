{
 "cells": [
  {
   "cell_type": "markdown",
   "id": "ca19d7e4",
   "metadata": {},
   "source": [
    "### Clean data for NAM y RAP model for the first days"
   ]
  },
  {
   "cell_type": "code",
   "execution_count": 24,
   "id": "009f1d01",
   "metadata": {},
   "outputs": [],
   "source": [
    "import pandas as pd\n",
    "import matplotlib.pyplot as plt\n",
    "from sklearn.metrics import mean_squared_error, mean_squared_log_error, mean_absolute_error\n",
    "import numpy as np"
   ]
  },
  {
   "cell_type": "code",
   "execution_count": 25,
   "id": "d1e83635",
   "metadata": {},
   "outputs": [],
   "source": [
    "index_to_drop = [0,2,3,5,6,8,9]"
   ]
  },
  {
   "cell_type": "code",
   "execution_count": 154,
   "id": "87b380a8",
   "metadata": {},
   "outputs": [],
   "source": [
    "study_name = '04-Enero-2021-RAP'\n",
    "file_ = f'comparision data/Comparación Enero/{study_name}'"
   ]
  },
  {
   "cell_type": "code",
   "execution_count": 155,
   "id": "bb43a408",
   "metadata": {
    "scrolled": true
   },
   "outputs": [
    {
     "data": {
      "text/html": [
       "<div>\n",
       "<style scoped>\n",
       "    .dataframe tbody tr th:only-of-type {\n",
       "        vertical-align: middle;\n",
       "    }\n",
       "\n",
       "    .dataframe tbody tr th {\n",
       "        vertical-align: top;\n",
       "    }\n",
       "\n",
       "    .dataframe thead th {\n",
       "        text-align: right;\n",
       "    }\n",
       "</style>\n",
       "<table border=\"1\" class=\"dataframe\">\n",
       "  <thead>\n",
       "    <tr style=\"text-align: right;\">\n",
       "      <th></th>\n",
       "      <th>real_data</th>\n",
       "      <th>forecasted_data</th>\n",
       "    </tr>\n",
       "  </thead>\n",
       "  <tbody>\n",
       "    <tr>\n",
       "      <th>0</th>\n",
       "      <td>2885.11</td>\n",
       "      <td>1608.920384</td>\n",
       "    </tr>\n",
       "    <tr>\n",
       "      <th>1</th>\n",
       "      <td>12226.00</td>\n",
       "      <td>18230.344461</td>\n",
       "    </tr>\n",
       "    <tr>\n",
       "      <th>2</th>\n",
       "      <td>10057.67</td>\n",
       "      <td>20323.955032</td>\n",
       "    </tr>\n",
       "    <tr>\n",
       "      <th>3</th>\n",
       "      <td>29200.33</td>\n",
       "      <td>26985.094211</td>\n",
       "    </tr>\n",
       "    <tr>\n",
       "      <th>4</th>\n",
       "      <td>32800.78</td>\n",
       "      <td>42806.451548</td>\n",
       "    </tr>\n",
       "    <tr>\n",
       "      <th>5</th>\n",
       "      <td>34168.33</td>\n",
       "      <td>44401.548263</td>\n",
       "    </tr>\n",
       "    <tr>\n",
       "      <th>6</th>\n",
       "      <td>33048.88</td>\n",
       "      <td>36621.012497</td>\n",
       "    </tr>\n",
       "    <tr>\n",
       "      <th>7</th>\n",
       "      <td>27696.11</td>\n",
       "      <td>36714.473944</td>\n",
       "    </tr>\n",
       "    <tr>\n",
       "      <th>8</th>\n",
       "      <td>20801.34</td>\n",
       "      <td>29885.698197</td>\n",
       "    </tr>\n",
       "    <tr>\n",
       "      <th>9</th>\n",
       "      <td>11574.11</td>\n",
       "      <td>18189.806438</td>\n",
       "    </tr>\n",
       "    <tr>\n",
       "      <th>10</th>\n",
       "      <td>637.45</td>\n",
       "      <td>2936.619773</td>\n",
       "    </tr>\n",
       "  </tbody>\n",
       "</table>\n",
       "</div>"
      ],
      "text/plain": [
       "    real_data  forecasted_data\n",
       "0     2885.11      1608.920384\n",
       "1    12226.00     18230.344461\n",
       "2    10057.67     20323.955032\n",
       "3    29200.33     26985.094211\n",
       "4    32800.78     42806.451548\n",
       "5    34168.33     44401.548263\n",
       "6    33048.88     36621.012497\n",
       "7    27696.11     36714.473944\n",
       "8    20801.34     29885.698197\n",
       "9    11574.11     18189.806438\n",
       "10     637.45      2936.619773"
      ]
     },
     "execution_count": 155,
     "metadata": {},
     "output_type": "execute_result"
    }
   ],
   "source": [
    "# NAM model only retreives 10 records per day from 8:00 AM to 18:00 PM so, \n",
    "# we clean the data to be consistent with GFS model\n",
    "\n",
    "df = pd.read_csv(file_)\n",
    "df"
   ]
  },
  {
   "cell_type": "code",
   "execution_count": 156,
   "id": "3e3e38bc",
   "metadata": {},
   "outputs": [
    {
     "data": {
      "text/html": [
       "<div>\n",
       "<style scoped>\n",
       "    .dataframe tbody tr th:only-of-type {\n",
       "        vertical-align: middle;\n",
       "    }\n",
       "\n",
       "    .dataframe tbody tr th {\n",
       "        vertical-align: top;\n",
       "    }\n",
       "\n",
       "    .dataframe thead th {\n",
       "        text-align: right;\n",
       "    }\n",
       "</style>\n",
       "<table border=\"1\" class=\"dataframe\">\n",
       "  <thead>\n",
       "    <tr style=\"text-align: right;\">\n",
       "      <th></th>\n",
       "      <th>real_data</th>\n",
       "      <th>forecasted_data</th>\n",
       "    </tr>\n",
       "  </thead>\n",
       "  <tbody>\n",
       "    <tr>\n",
       "      <th>1</th>\n",
       "      <td>12226.00</td>\n",
       "      <td>18230.344461</td>\n",
       "    </tr>\n",
       "    <tr>\n",
       "      <th>4</th>\n",
       "      <td>32800.78</td>\n",
       "      <td>42806.451548</td>\n",
       "    </tr>\n",
       "    <tr>\n",
       "      <th>7</th>\n",
       "      <td>27696.11</td>\n",
       "      <td>36714.473944</td>\n",
       "    </tr>\n",
       "    <tr>\n",
       "      <th>10</th>\n",
       "      <td>637.45</td>\n",
       "      <td>2936.619773</td>\n",
       "    </tr>\n",
       "  </tbody>\n",
       "</table>\n",
       "</div>"
      ],
      "text/plain": [
       "    real_data  forecasted_data\n",
       "1    12226.00     18230.344461\n",
       "4    32800.78     42806.451548\n",
       "7    27696.11     36714.473944\n",
       "10     637.45      2936.619773"
      ]
     },
     "execution_count": 156,
     "metadata": {},
     "output_type": "execute_result"
    }
   ],
   "source": [
    "consistent_data = df.drop(index_to_drop)\n",
    "consistent_data"
   ]
  },
  {
   "cell_type": "code",
   "execution_count": 157,
   "id": "fb7ac6ec",
   "metadata": {},
   "outputs": [],
   "source": [
    "consistent_data.to_csv(f'comparision data/Comparación Enero/{study_name}', index=False)"
   ]
  },
  {
   "cell_type": "code",
   "execution_count": 158,
   "id": "79ca8fe2",
   "metadata": {},
   "outputs": [],
   "source": [
    "real = consistent_data['real_data']"
   ]
  },
  {
   "cell_type": "code",
   "execution_count": 159,
   "id": "61edb720",
   "metadata": {},
   "outputs": [],
   "source": [
    "forecasted = consistent_data['forecasted_data']"
   ]
  },
  {
   "cell_type": "code",
   "execution_count": 160,
   "id": "07db7184",
   "metadata": {},
   "outputs": [],
   "source": [
    "MSE = mean_squared_error(forecasted, real)\n",
    "RMSE = np.sqrt(mean_squared_error(forecasted, real))\n",
    "MSLE = mean_squared_log_error(forecasted, real)\n",
    "RMSLE = np.sqrt(mean_squared_log_error(forecasted, real))\n",
    "MAE = mean_absolute_error(forecasted, real)"
   ]
  },
  {
   "cell_type": "code",
   "execution_count": 161,
   "id": "f07db1e8",
   "metadata": {},
   "outputs": [
    {
     "data": {
      "text/html": [
       "<div>\n",
       "<style scoped>\n",
       "    .dataframe tbody tr th:only-of-type {\n",
       "        vertical-align: middle;\n",
       "    }\n",
       "\n",
       "    .dataframe tbody tr th {\n",
       "        vertical-align: top;\n",
       "    }\n",
       "\n",
       "    .dataframe thead th {\n",
       "        text-align: right;\n",
       "    }\n",
       "</style>\n",
       "<table border=\"1\" class=\"dataframe\">\n",
       "  <thead>\n",
       "    <tr style=\"text-align: right;\">\n",
       "      <th></th>\n",
       "      <th>MSE</th>\n",
       "      <th>RMSE</th>\n",
       "      <th>MSLE</th>\n",
       "      <th>RMSLE</th>\n",
       "      <th>MAE</th>\n",
       "    </tr>\n",
       "  </thead>\n",
       "  <tbody>\n",
       "    <tr>\n",
       "      <th>0</th>\n",
       "      <td>55695671.35</td>\n",
       "      <td>7462.95</td>\n",
       "      <td>0.66</td>\n",
       "      <td>0.81</td>\n",
       "      <td>6831.89</td>\n",
       "    </tr>\n",
       "  </tbody>\n",
       "</table>\n",
       "</div>"
      ],
      "text/plain": [
       "           MSE     RMSE  MSLE  RMSLE      MAE\n",
       "0  55695671.35  7462.95  0.66   0.81  6831.89"
      ]
     },
     "execution_count": 161,
     "metadata": {},
     "output_type": "execute_result"
    }
   ],
   "source": [
    "metrics_obj = {'MSE': [MSE], 'RMSE':[RMSE], 'MSLE':[MSLE], 'RMSLE':[RMSLE], 'MAE':[MAE]}\n",
    "metrics_df = pd.DataFrame(metrics_obj)\n",
    "metrics_df.round(2)"
   ]
  },
  {
   "cell_type": "code",
   "execution_count": 162,
   "id": "5dfcea8a",
   "metadata": {},
   "outputs": [],
   "source": [
    "metrics_df.to_csv(f'comparision data/Comparación Enero/{study_name}-Metrics', index=False)"
   ]
  },
  {
   "cell_type": "code",
   "execution_count": null,
   "id": "a5be0267",
   "metadata": {},
   "outputs": [],
   "source": []
  }
 ],
 "metadata": {
  "kernelspec": {
   "display_name": "Python 3 (ipykernel)",
   "language": "python",
   "name": "python3"
  },
  "language_info": {
   "codemirror_mode": {
    "name": "ipython",
    "version": 3
   },
   "file_extension": ".py",
   "mimetype": "text/x-python",
   "name": "python",
   "nbconvert_exporter": "python",
   "pygments_lexer": "ipython3",
   "version": "3.9.7"
  }
 },
 "nbformat": 4,
 "nbformat_minor": 5
}
